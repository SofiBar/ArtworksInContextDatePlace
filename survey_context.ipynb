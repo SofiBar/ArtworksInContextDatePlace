{
 "cells": [
  {
   "cell_type": "markdown",
   "id": "e09a13ac-0b79-4676-8cc2-f946968e306b",
   "metadata": {},
   "source": [
    "# Survey of date and place coordinates\n",
    "The code in this notebook explores the cultural properties in ArCo, the italian cultural heritage knowledge graph, for which an execution date is specified. "
   ]
  },
  {
   "cell_type": "code",
   "execution_count": 1,
   "id": "dfea6ae0-3640-4f4e-b638-6f17fc7b7b96",
   "metadata": {},
   "outputs": [],
   "source": [
    "import pandas as pd\n",
    "import altair as alt\n",
    "import numpy as np"
   ]
  },
  {
   "cell_type": "code",
   "execution_count": 2,
   "id": "20e6c988-cec3-4abf-b3c7-75c4494ecd3e",
   "metadata": {},
   "outputs": [],
   "source": [
    "import sys\n",
    "import os\n",
    "import importlib\n",
    "sys.path.append(os.path.abspath('queries'))\n",
    "\n",
    "from queries import *"
   ]
  },
  {
   "cell_type": "code",
   "execution_count": 3,
   "id": "a8a78f1d-6efc-49d7-aa33-31a17640ddc0",
   "metadata": {},
   "outputs": [
    {
     "data": {
      "text/plain": [
       "<module 'queries.rijksmuseum' from 'C:\\\\Users\\\\baroncis\\\\Documents\\\\PythonScripts\\\\data-exploration\\\\queries\\\\rijksmuseum.py'>"
      ]
     },
     "execution_count": 3,
     "metadata": {},
     "output_type": "execute_result"
    }
   ],
   "source": [
    "\n",
    "\n",
    "# make changes to example.py file\n",
    "\n",
    "importlib.reload(rijksmuseum)"
   ]
  },
  {
   "cell_type": "code",
   "execution_count": 4,
   "id": "2fb13789-8757-4bfe-80ac-8275e981d83c",
   "metadata": {},
   "outputs": [
    {
     "data": {
      "text/plain": [
       "['__builtins__',\n",
       " '__cached__',\n",
       " '__doc__',\n",
       " '__file__',\n",
       " '__loader__',\n",
       " '__name__',\n",
       " '__package__',\n",
       " '__spec__',\n",
       " 'local_endpoint',\n",
       " 'os',\n",
       " 'q_rk_art_aligned_tot',\n",
       " 'q_rk_author_aligned_tot',\n",
       " 'q_rk_author_date_tot',\n",
       " 'q_rk_author_place_tot',\n",
       " 'q_rk_author_tot',\n",
       " 'q_rk_date_place_tot',\n",
       " 'q_rk_date_tot',\n",
       " 'q_rk_place_tot',\n",
       " 'q_rk_tot',\n",
       " 'query_wrapper_tot',\n",
       " 'sparql_query_setting',\n",
       " 'sys']"
      ]
     },
     "execution_count": 4,
     "metadata": {},
     "output_type": "execute_result"
    }
   ],
   "source": [
    "dir(rijksmuseum)"
   ]
  },
  {
   "cell_type": "code",
   "execution_count": 5,
   "id": "6a4cea21-4b25-4421-85a0-8f67997c56c1",
   "metadata": {},
   "outputs": [
    {
     "name": "stdout",
     "output_type": "stream",
     "text": [
      "['Dataset', 'Artworks', 'With date', 'With place', 'With date and place', 'With author', 'With author with date', 'With author with place', 'Aligned to Wikidata', 'With author aligned to ULAN or Wikidata']\n",
      "['Dataset', 'With date', 'With place', 'With date and place', 'With author', 'With author with date', 'With author with place', 'Aligned to Wikidata', 'With author aligned to ULAN or Wikidata']\n"
     ]
    }
   ],
   "source": [
    "headers = ['Dataset', 'Artworks', 'With date', 'With place', 'With date and place', 'With author', 'With author with date', 'With author with place', 'Aligned to Wikidata', 'With author aligned to ULAN or Wikidata']\n",
    "headers_prop = headers.copy()\n",
    "headers_prop.remove('Artworks')\n",
    "print(headers)\n",
    "print(headers_prop)\n",
    "df_main = pd.DataFrame(columns=headers)\n",
    "df_prop = pd.DataFrame(columns=headers_prop)"
   ]
  },
  {
   "cell_type": "markdown",
   "id": "84742ad0-9ee7-4c6a-a5fb-3081427d6ef3",
   "metadata": {},
   "source": [
    "## ArCO\n",
    "The italian Cultural Heritage Knowledge Graph"
   ]
  },
  {
   "cell_type": "code",
   "execution_count": 6,
   "id": "48a7a242-7b40-4b72-a553-8f3a0bcb1bc7",
   "metadata": {},
   "outputs": [],
   "source": [
    "arco_list = [\"Arco\"]\n",
    "arco_prop = [\"Arco\"]"
   ]
  },
  {
   "cell_type": "markdown",
   "id": "0bf26b1b-41ce-4ffd-b667-4c302b843826",
   "metadata": {},
   "source": [
    "Total number of artworks (arco:HistoricOrArtisticProperty)"
   ]
  },
  {
   "cell_type": "code",
   "execution_count": 7,
   "id": "7c3474e3-a8ff-4a1c-a192-f89cfa50f18c",
   "metadata": {},
   "outputs": [
    {
     "name": "stdout",
     "output_type": "stream",
     "text": [
      "Total:  2184247\n",
      "['Arco', 2184247]\n"
     ]
    }
   ],
   "source": [
    "arco_art_tot = q_arco_tot()\n",
    "print(\"Total: \", arco_art_tot)\n",
    "arco_list.append(int(arco_art_tot))\n",
    "print(arco_list)"
   ]
  },
  {
   "cell_type": "markdown",
   "id": "b92d45b8-69d3-4a86-ac7f-bf8abe444a83",
   "metadata": {},
   "source": [
    "Number of artworks having a date specified"
   ]
  },
  {
   "cell_type": "code",
   "execution_count": 8,
   "id": "119ca76a-1e27-40fa-886e-b8de4ffaa2cb",
   "metadata": {},
   "outputs": [
    {
     "name": "stdout",
     "output_type": "stream",
     "text": [
      "total:  2142257\n",
      "percentage of the total of artworks:  98.08\n",
      "['Arco', 2184247, 2142257]\n",
      "['Arco', 98.08]\n"
     ]
    }
   ],
   "source": [
    "arco_date_tot = q_arco_date_tot()\n",
    "arco_prop_date = pprint_prop(arco_date_tot, arco_art_tot, arco_list, arco_prop)"
   ]
  },
  {
   "cell_type": "markdown",
   "id": "9453de67-7e69-4701-93c4-e0200e2dc421",
   "metadata": {},
   "source": [
    "Number of artworks having a place of creation specified"
   ]
  },
  {
   "cell_type": "code",
   "execution_count": 9,
   "id": "fa02d5bd-ab94-438b-afc8-53495a7bf427",
   "metadata": {},
   "outputs": [
    {
     "name": "stdout",
     "output_type": "stream",
     "text": [
      "total:  984\n",
      "percentage of the total of artworks:  0.05\n",
      "['Arco', 2184247, 2142257, 984]\n",
      "['Arco', 98.08, 0.05]\n"
     ]
    }
   ],
   "source": [
    "arco_place_tot = q_arco_place_tot()\n",
    "arco_prop_place = pprint_prop(arco_place_tot, arco_art_tot, arco_list, arco_prop)"
   ]
  },
  {
   "cell_type": "markdown",
   "id": "c4988b50-e2fa-4b1c-8b43-3723e7e220f8",
   "metadata": {},
   "source": [
    "Number of artworks haivng both a date and place of creation specified"
   ]
  },
  {
   "cell_type": "code",
   "execution_count": 10,
   "id": "a8cd5597-31a0-4676-8473-a3a7665d0827",
   "metadata": {},
   "outputs": [
    {
     "name": "stdout",
     "output_type": "stream",
     "text": [
      "total:  984\n",
      "percentage of the total of artworks:  0.05\n",
      "['Arco', 2184247, 2142257, 984, 984]\n",
      "['Arco', 98.08, 0.05, 0.05]\n"
     ]
    }
   ],
   "source": [
    "arco_date_place_tot = q_arco_date_place_tot()\n",
    "arco_prop_date_place = pprint_prop(arco_date_place_tot, arco_art_tot, arco_list, arco_prop)\n",
    "# arco_overview.append([\"With date and place\", int(arco_date_place_tot)])"
   ]
  },
  {
   "cell_type": "markdown",
   "id": "7f40acf2-c9d8-4466-9948-3dfa8299c4a5",
   "metadata": {},
   "source": [
    "### Author details"
   ]
  },
  {
   "cell_type": "markdown",
   "id": "b5a484a8-a149-4b6e-9095-935bee0a5dc3",
   "metadata": {},
   "source": [
    "Number of artworks having an author specified"
   ]
  },
  {
   "cell_type": "code",
   "execution_count": 11,
   "id": "77f03da7-bc9b-4fae-8f5e-e8e5f14ae617",
   "metadata": {},
   "outputs": [
    {
     "name": "stdout",
     "output_type": "stream",
     "text": [
      "total:  524173\n",
      "percentage of the total of artworks:  24.0\n",
      "['Arco', 2184247, 2142257, 984, 984, 524173]\n",
      "['Arco', 98.08, 0.05, 0.05, 24.0]\n"
     ]
    }
   ],
   "source": [
    "arco_author_tot = q_arco_author_tot()\n",
    "arco_prop_auth = pprint_prop(arco_author_tot, arco_art_tot, arco_list, arco_prop)\n",
    "#print(\"total: \", arco_author_tot)\n",
    "#arco_overview.append([\"With author\", int(arco_author_tot)])\n",
    "#arco_prop_auth = round((int(arco_author_tot)/int(arco_art_tot))*100, 2)\n",
    "#print(\"percentage of the total of artworks: \", arco_prop_auth)"
   ]
  },
  {
   "cell_type": "markdown",
   "id": "a284e2aa-29bc-446e-91b0-f281a11bc759",
   "metadata": {},
   "source": [
    "Number of artworks with an author with at least a date (birth or death)"
   ]
  },
  {
   "cell_type": "code",
   "execution_count": 12,
   "id": "e7f4bd96-8e1d-49c0-8d19-f8f176874e4a",
   "metadata": {},
   "outputs": [
    {
     "name": "stdout",
     "output_type": "stream",
     "text": [
      "total:  257900\n",
      "percentage of the total of artworks:  11.81\n",
      "['Arco', 2184247, 2142257, 984, 984, 524173, 257900]\n",
      "['Arco', 98.08, 0.05, 0.05, 24.0, 11.81]\n"
     ]
    }
   ],
   "source": [
    "arco_author_date = q_arco_author_date_tot()\n",
    "arco_prop_auth_date = pprint_prop(arco_author_date, arco_art_tot, arco_list, arco_prop)"
   ]
  },
  {
   "cell_type": "markdown",
   "id": "f3451a47-71b0-427f-b7ad-cedfb042757f",
   "metadata": {},
   "source": [
    "Number of artworks with an author with at least a place (birth or death)"
   ]
  },
  {
   "cell_type": "code",
   "execution_count": 13,
   "id": "79f77136-d080-4830-ae71-013a6f00004d",
   "metadata": {},
   "outputs": [
    {
     "name": "stdout",
     "output_type": "stream",
     "text": [
      "total:  259153\n",
      "percentage of the total of artworks:  11.86\n",
      "['Arco', 2184247, 2142257, 984, 984, 524173, 257900, 259153]\n",
      "['Arco', 98.08, 0.05, 0.05, 24.0, 11.81, 11.86]\n"
     ]
    }
   ],
   "source": [
    "arco_author_place = q_arco_author_place_tot()\n",
    "arco_prop_auth_place = pprint_prop(arco_author_place, arco_art_tot, arco_list, arco_prop)"
   ]
  },
  {
   "cell_type": "markdown",
   "id": "cc31c001-c660-45d9-9549-3a712f95febe",
   "metadata": {},
   "source": [
    "Number of artworks having an author aligned with Wikidata"
   ]
  },
  {
   "cell_type": "code",
   "execution_count": 14,
   "id": "87d383fc-e334-49eb-882f-b70914633a1c",
   "metadata": {},
   "outputs": [
    {
     "name": "stdout",
     "output_type": "stream",
     "text": [
      "total:  148792\n",
      "percentage of the total of artworks:  6.81\n",
      "['Arco', 2184247, 2142257, 984, 984, 524173, 257900, 259153, 148792]\n",
      "['Arco', 98.08, 0.05, 0.05, 24.0, 11.81, 11.86, 6.81]\n"
     ]
    }
   ],
   "source": [
    "arco_author_wd = q_arco_author_wikidata_tot()\n",
    "arco_prop_auth_wd = pprint_prop(arco_author_wd, arco_art_tot, arco_list, arco_prop)"
   ]
  },
  {
   "cell_type": "markdown",
   "id": "34653b49-46bd-454f-ab91-38145cb124ce",
   "metadata": {},
   "source": [
    "Number of artworks having an author alighed with ULAN"
   ]
  },
  {
   "cell_type": "code",
   "execution_count": 15,
   "id": "ddb2b44a-25b6-4244-a020-c8f728da8205",
   "metadata": {},
   "outputs": [
    {
     "name": "stdout",
     "output_type": "stream",
     "text": [
      "total:  0\n",
      "percentage of the total of artworks:  0.0\n",
      "['Arco', 2184247, 2142257, 984, 984, 524173, 257900, 259153, 148792, 0]\n",
      "['Arco', 98.08, 0.05, 0.05, 24.0, 11.81, 11.86, 6.81, 0.0]\n"
     ]
    }
   ],
   "source": [
    "arco_author_ulan = q_arco_author_ulan_tot()\n",
    "arco_prop_auth_ulan = pprint_prop(arco_author_ulan, arco_art_tot, arco_list, arco_prop)"
   ]
  },
  {
   "cell_type": "code",
   "execution_count": 16,
   "id": "b307e571-133e-4114-ae48-6cbc087086ec",
   "metadata": {},
   "outputs": [],
   "source": [
    "# add arco details to the main dataframe\n",
    "df_main.loc[len(df_main)] = arco_list\n",
    "#df_main = df_main.append(pd.Series(arco_list, index=column_headers), ignore_index=True)\n",
    "df_prop.loc[len(df_prop)] = arco_prop"
   ]
  },
  {
   "cell_type": "markdown",
   "id": "0ad71e2b-70b0-4760-b522-f6bbb8daba58",
   "metadata": {},
   "source": [
    "arco_df = pd.DataFrame(np.array(arco_overview),\n",
    "                       columns=['Name', 'Total'])\n",
    "arco_df[\"Total\"] = pd.to_numeric(arco_df[\"Total\"])"
   ]
  },
  {
   "cell_type": "code",
   "execution_count": null,
   "id": "4207ad33-b67f-4641-85f8-07daa81bc007",
   "metadata": {},
   "outputs": [],
   "source": []
  },
  {
   "cell_type": "markdown",
   "id": "36df72bb-d613-4d73-a4b2-54d959399b47",
   "metadata": {},
   "source": [
    "## Zeri"
   ]
  },
  {
   "cell_type": "code",
   "execution_count": 17,
   "id": "47231041-208e-4da8-b53c-3baa42b5308f",
   "metadata": {},
   "outputs": [],
   "source": [
    "#zeri_overview = []\n",
    "zeri_list = ['Zeri']\n",
    "zeri_prop = ['Zeri']"
   ]
  },
  {
   "cell_type": "code",
   "execution_count": 18,
   "id": "c8ff6c1a-37d8-46f5-852c-a89e1c254a8a",
   "metadata": {},
   "outputs": [
    {
     "name": "stdout",
     "output_type": "stream",
     "text": [
      "20082\n",
      "date\n",
      "total:  20010\n",
      "percentage of the total of artworks:  99.64\n",
      "['Zeri', 20082, 20010]\n",
      "['Zeri', 99.64]\n",
      "place\n",
      "total:  0\n",
      "percentage of the total of artworks:  0.0\n",
      "['Zeri', 20082, 20010, 0]\n",
      "['Zeri', 99.64, 0.0]\n",
      "date and place\n",
      "total:  0\n",
      "percentage of the total of artworks:  0.0\n",
      "['Zeri', 20082, 20010, 0, 0]\n",
      "['Zeri', 99.64, 0.0, 0.0]\n"
     ]
    }
   ],
   "source": [
    "zeri_art_tot = q_zeri_tot()\n",
    "print(zeri_art_tot)\n",
    "zeri_list.append(zeri_art_tot)\n",
    "#zeri_overview.append([\"Artworks\", int(zeri_art_tot)])\n",
    "\n",
    "# date\n",
    "print(\"date\")\n",
    "zeri_date = q_zeri_date_tot()\n",
    "zeri_date_prop = pprint_prop(zeri_date, zeri_art_tot, zeri_list, zeri_prop)\n",
    "\n",
    "#place \n",
    "print(\"place\")\n",
    "zeri_place = q_zeri_place_tot()\n",
    "zeri_date_prop = pprint_prop(zeri_place, zeri_art_tot, zeri_list, zeri_prop)\n",
    "\n",
    "# date and place\n",
    "print(\"date and place\")\n",
    "zeri_date_place = q_zeri_date_place_tot()\n",
    "zeri_date_place_prop = pprint_prop(zeri_date_place, zeri_art_tot, zeri_list, zeri_prop)"
   ]
  },
  {
   "cell_type": "markdown",
   "id": "1b470f68-ea2e-4e84-abc8-7ef988a677b4",
   "metadata": {},
   "source": [
    "zeri_date = q_zeri_date_tot()\n",
    "zeri_date_prop = pprint_prop(zeri_date, zeri_art_tot, zeri_list, zeri_prop)\n",
    "#print(zeri_date)\n",
    "#zeri_overview.append([\"with a date\", int(zeri_date)])"
   ]
  },
  {
   "cell_type": "code",
   "execution_count": 19,
   "id": "8d84a853-a2bf-4d65-80ba-0bcfa913db8c",
   "metadata": {},
   "outputs": [],
   "source": [
    "#zeri_place = q_zeri_place_tot()\n",
    "#print(zeri_place)\n",
    "#zeri_overview.append([\"with a place\", int(zeri_place)])"
   ]
  },
  {
   "cell_type": "markdown",
   "id": "abd83716-31b3-40b6-a47e-8b7b2cf4b5ee",
   "metadata": {},
   "source": [
    "### Author details"
   ]
  },
  {
   "cell_type": "code",
   "execution_count": 20,
   "id": "c86c4c22-f548-4d95-815c-72a3a7915430",
   "metadata": {},
   "outputs": [
    {
     "name": "stdout",
     "output_type": "stream",
     "text": [
      "with author\n",
      "total:  19061\n",
      "percentage of the total of artworks:  94.92\n",
      "['Zeri', 20082, 20010, 0, 0, 19061]\n",
      "['Zeri', 99.64, 0.0, 0.0, 94.92]\n",
      "authors with date\n",
      "total:  0\n",
      "percentage of the total of artworks:  0.0\n",
      "['Zeri', 20082, 20010, 0, 0, 19061, 0]\n",
      "['Zeri', 99.64, 0.0, 0.0, 94.92, 0.0]\n",
      "authors with place\n",
      "total:  0\n",
      "percentage of the total of artworks:  0.0\n",
      "['Zeri', 20082, 20010, 0, 0, 19061, 0, 0]\n",
      "['Zeri', 99.64, 0.0, 0.0, 94.92, 0.0, 0.0]\n"
     ]
    }
   ],
   "source": [
    "## authors\n",
    "print(\"with author\")\n",
    "zeri_auth = q_zeri_author_tot()\n",
    "zeri_auth_prop = pprint_prop(zeri_auth, zeri_art_tot, zeri_list, zeri_prop)\n",
    "\n",
    "## authors with date\n",
    "print(\"authors with date\")\n",
    "zeri_auth_date = q_zeri_author_date_tot()\n",
    "zeri_auth_date_prop = pprint_prop(zeri_auth_date, zeri_art_tot, zeri_list, zeri_prop)\n",
    "\n",
    "## authors with place\n",
    "print(\"authors with place\")\n",
    "zeri_auth_place = q_zeri_author_place_tot()\n",
    "zeri_auth_place_prop = pprint_prop(zeri_auth_place, zeri_art_tot, zeri_list, zeri_prop)"
   ]
  },
  {
   "cell_type": "markdown",
   "id": "520feb30-36f7-4fef-af7e-fc2d82b2956d",
   "metadata": {},
   "source": [
    "### Authors aligned"
   ]
  },
  {
   "cell_type": "code",
   "execution_count": 21,
   "id": "5054aed7-e0a2-4a30-b141-8d1969d34087",
   "metadata": {},
   "outputs": [],
   "source": [
    "zeri_author_ulan = q_zeri_author_ulan_tot()"
   ]
  },
  {
   "cell_type": "code",
   "execution_count": 22,
   "id": "00508909-9ce4-441a-a716-464ce4bb00a5",
   "metadata": {},
   "outputs": [
    {
     "name": "stdout",
     "output_type": "stream",
     "text": [
      "total:  0\n",
      "percentage of the total of artworks:  0.0\n",
      "['Zeri', 20082, 20010, 0, 0, 19061, 0, 0, 0]\n",
      "['Zeri', 99.64, 0.0, 0.0, 94.92, 0.0, 0.0, 0.0]\n",
      "total:  0\n",
      "percentage of the total of artworks:  0.0\n",
      "['Zeri', 20082, 20010, 0, 0, 19061, 0, 0, 0, 0]\n",
      "['Zeri', 99.64, 0.0, 0.0, 94.92, 0.0, 0.0, 0.0, 0.0]\n"
     ]
    }
   ],
   "source": [
    "# wd\n",
    "zeri_author_wd = q_zeri_author_wikidata_tot()\n",
    "zeri_prop_auth_wd = pprint_prop(zeri_author_wd, zeri_art_tot, zeri_list, zeri_prop)\n",
    "\n",
    "#ulan\n",
    "zeri_author_ulan = q_zeri_author_ulan_tot()\n",
    "zeri_prop_auth_ulan = pprint_prop(zeri_author_ulan, zeri_art_tot, zeri_list, zeri_prop)"
   ]
  },
  {
   "cell_type": "markdown",
   "id": "228d189d-f934-4afb-9e1b-35fb1763c5ce",
   "metadata": {},
   "source": [
    "### Add results to the main dataframe"
   ]
  },
  {
   "cell_type": "code",
   "execution_count": 23,
   "id": "721417cc-7707-4eb4-836c-d61719c3404b",
   "metadata": {},
   "outputs": [],
   "source": [
    "# add zeri details to the main dataframe\n",
    "df_main.loc[len(df_main)] = zeri_list\n",
    "#df_main = df_main.append(pd.Series(zeri_list, index=column_headers), ignore_index=True)\n",
    "df_prop.loc[len(df_prop)] = zeri_prop"
   ]
  },
  {
   "cell_type": "code",
   "execution_count": null,
   "id": "d52a3a06-9e59-47b4-9035-d2569e82f089",
   "metadata": {},
   "outputs": [],
   "source": []
  },
  {
   "cell_type": "markdown",
   "id": "ec3a3202-391c-4bed-9f78-07de944dbe01",
   "metadata": {},
   "source": [
    "## Europeana"
   ]
  },
  {
   "cell_type": "code",
   "execution_count": 24,
   "id": "a462edc6-84f8-45af-8067-0f14dfde2e3b",
   "metadata": {},
   "outputs": [
    {
     "name": "stdout",
     "output_type": "stream",
     "text": [
      "369853\n"
     ]
    }
   ],
   "source": [
    "eu_list = ['Europeana']\n",
    "eu_prop = ['Europeana']\n",
    "\n",
    "eu_art_tot = q_eu_tot()\n",
    "print(eu_art_tot)\n",
    "eu_list.append(eu_art_tot)"
   ]
  },
  {
   "cell_type": "code",
   "execution_count": 25,
   "id": "8aa50e6e-0797-4cc8-babc-9f081f2b4a11",
   "metadata": {},
   "outputs": [
    {
     "name": "stdout",
     "output_type": "stream",
     "text": [
      "date\n",
      "total:  306445\n",
      "percentage of the total of artworks:  82.86\n",
      "['Europeana', 369853, 306445]\n",
      "['Europeana', 82.86]\n",
      "place\n",
      "total:  175784\n",
      "percentage of the total of artworks:  47.53\n",
      "['Europeana', 369853, 306445, 175784]\n",
      "['Europeana', 82.86, 47.53]\n",
      "date and place\n",
      "total:  152908\n",
      "percentage of the total of artworks:  41.34\n",
      "['Europeana', 369853, 306445, 175784, 152908]\n",
      "['Europeana', 82.86, 47.53, 41.34]\n"
     ]
    }
   ],
   "source": [
    "\n",
    "# date\n",
    "print(\"date\")\n",
    "eu_date = q_eu_date_tot()\n",
    "eu_date_prop = pprint_prop(eu_date, eu_art_tot, eu_list, eu_prop)\n",
    "\n",
    "#place \n",
    "print(\"place\")\n",
    "eu_place = q_eu_place_tot()\n",
    "eu_date_prop = pprint_prop(eu_place, eu_art_tot, eu_list, eu_prop)\n",
    "\n",
    "# date and place\n",
    "print(\"date and place\")\n",
    "eu_date_place = q_eu_date_place_tot()\n",
    "eu_date_place_prop = pprint_prop(eu_date_place, eu_art_tot, eu_list, eu_prop)"
   ]
  },
  {
   "cell_type": "markdown",
   "id": "13062b8b-c3b0-4221-9e2c-403cd6a5d93f",
   "metadata": {},
   "source": [
    "### Author details"
   ]
  },
  {
   "cell_type": "code",
   "execution_count": 26,
   "id": "59e5d690-d264-4cf0-97fd-44dd3272e140",
   "metadata": {},
   "outputs": [
    {
     "name": "stdout",
     "output_type": "stream",
     "text": [
      "with author\n",
      "total:  112330\n",
      "percentage of the total of artworks:  30.37\n",
      "['Europeana', 369853, 306445, 175784, 152908, 112330]\n",
      "['Europeana', 82.86, 47.53, 41.34, 30.37]\n",
      "authors with date\n",
      "total:  68532\n",
      "percentage of the total of artworks:  18.53\n",
      "['Europeana', 369853, 306445, 175784, 152908, 112330, 68532]\n",
      "['Europeana', 82.86, 47.53, 41.34, 30.37, 18.53]\n",
      "authors with place\n",
      "total:  2\n",
      "percentage of the total of artworks:  0.0\n",
      "['Europeana', 369853, 306445, 175784, 152908, 112330, 68532, 2]\n",
      "['Europeana', 82.86, 47.53, 41.34, 30.37, 18.53, 0.0]\n"
     ]
    }
   ],
   "source": [
    "## authors\n",
    "print(\"with author\")\n",
    "eu_auth = q_eu_author_tot()\n",
    "eu_auth_prop = pprint_prop(eu_auth, eu_art_tot, eu_list, eu_prop)\n",
    "\n",
    "## authors with date\n",
    "print(\"authors with date\")\n",
    "eu_auth_date = q_eu_author_date_tot()\n",
    "eu_auth_date_prop = pprint_prop(eu_auth_date, eu_art_tot, eu_list, eu_prop)\n",
    "\n",
    "## authors with place\n",
    "print(\"authors with place\")\n",
    "eu_auth_place = q_eu_author_place_tot()\n",
    "eu_auth_place_prop = pprint_prop(eu_auth_place, eu_art_tot, eu_list, eu_prop)"
   ]
  },
  {
   "cell_type": "markdown",
   "id": "64a079d0-3a45-4a91-b30e-15ca9d3b75a6",
   "metadata": {},
   "source": [
    "### Alignments"
   ]
  },
  {
   "cell_type": "code",
   "execution_count": 27,
   "id": "123eefe0-54e9-4da1-a2b7-8334250d1b2c",
   "metadata": {},
   "outputs": [
    {
     "name": "stdout",
     "output_type": "stream",
     "text": [
      "artworks with authors aligned to wikidata\n",
      "total:  127\n",
      "percentage of the total of artworks:  0.03\n",
      "['Europeana', 369853, 306445, 175784, 152908, 112330, 68532, 2, 127]\n",
      "['Europeana', 82.86, 47.53, 41.34, 30.37, 18.53, 0.0, 0.03]\n",
      "artworks with authors aligned to ulan\n",
      "total:  118\n",
      "percentage of the total of artworks:  0.03\n",
      "['Europeana', 369853, 306445, 175784, 152908, 112330, 68532, 2, 127, 118]\n",
      "['Europeana', 82.86, 47.53, 41.34, 30.37, 18.53, 0.0, 0.03, 0.03]\n"
     ]
    }
   ],
   "source": [
    "importlib.reload(europeana)\n",
    "# wd\n",
    "print(\"artworks with authors aligned to wikidata\")\n",
    "eu_author_wd = q_eu_author_wikidata_tot()\n",
    "eu_prop_auth_wd = pprint_prop(eu_author_wd, eu_art_tot, eu_list, eu_prop)\n",
    "\n",
    "#ulan\n",
    "print(\"artworks with authors aligned to ulan\")\n",
    "eu_author_ulan = q_eu_author_ulan_tot()\n",
    "eu_prop_auth_ulan = pprint_prop(eu_author_ulan, eu_art_tot, eu_list, eu_prop)"
   ]
  },
  {
   "cell_type": "code",
   "execution_count": 28,
   "id": "6548db9f-4629-43e4-a609-5a15834076f0",
   "metadata": {},
   "outputs": [],
   "source": [
    "# add  details to the main dataframe\n",
    "df_main.loc[len(df_main)] = eu_list\n",
    "#df_main = df_main.append(pd.Series(_list, index=column_headers), ignore_index=True)\n",
    "df_prop.loc[len(df_prop)] = eu_prop"
   ]
  },
  {
   "cell_type": "code",
   "execution_count": null,
   "id": "769eb3cf-baed-4e5b-9102-7f4f2d97284d",
   "metadata": {},
   "outputs": [],
   "source": []
  },
  {
   "cell_type": "markdown",
   "id": "9794b7fb-c69e-4543-bd13-b0e4f092e069",
   "metadata": {},
   "source": [
    "## DBpedia"
   ]
  },
  {
   "cell_type": "code",
   "execution_count": 29,
   "id": "62453db1-a7db-4b47-ac7e-91e5b3b84cf4",
   "metadata": {},
   "outputs": [
    {
     "name": "stdout",
     "output_type": "stream",
     "text": [
      "12446\n"
     ]
    }
   ],
   "source": [
    "db_list = ['DBpedia']\n",
    "db_prop = ['DBpedia']\n",
    "\n",
    "db_art_tot = q_db_tot()\n",
    "print(db_art_tot)\n",
    "db_list.append(db_art_tot)"
   ]
  },
  {
   "cell_type": "code",
   "execution_count": 30,
   "id": "deb618f1-06a9-4173-a1cc-6e96c645a00e",
   "metadata": {},
   "outputs": [
    {
     "name": "stdout",
     "output_type": "stream",
     "text": [
      "date\n",
      "total:  248\n",
      "percentage of the total of artworks:  1.99\n",
      "['DBpedia', 12446, 248]\n",
      "['DBpedia', 1.99]\n",
      "place\n",
      "total:  0\n",
      "percentage of the total of artworks:  0.0\n",
      "['DBpedia', 12446, 248, 0]\n",
      "['DBpedia', 1.99, 0.0]\n",
      "date and place\n",
      "total:  0\n",
      "percentage of the total of artworks:  0.0\n",
      "['DBpedia', 12446, 248, 0, 0]\n",
      "['DBpedia', 1.99, 0.0, 0.0]\n"
     ]
    }
   ],
   "source": [
    "\n",
    "# date\n",
    "print(\"date\")\n",
    "db_date = q_db_date_tot()\n",
    "db_date_prop = pprint_prop(db_date, db_art_tot, db_list, db_prop)\n",
    "\n",
    "#place \n",
    "print(\"place\")\n",
    "db_place = q_db_place_tot()\n",
    "db_date_prop = pprint_prop(db_place, db_art_tot, db_list, db_prop)\n",
    "\n",
    "# date and place\n",
    "print(\"date and place\")\n",
    "db_date_place = q_db_date_place_tot()\n",
    "db_date_place_prop = pprint_prop(db_date_place, db_art_tot, db_list, db_prop)"
   ]
  },
  {
   "cell_type": "markdown",
   "id": "9ab37d21-4724-4ad2-9da9-c331b04d8276",
   "metadata": {},
   "source": [
    "### Author details"
   ]
  },
  {
   "cell_type": "code",
   "execution_count": 31,
   "id": "ce248bd2-2484-4188-accc-2a5763f70025",
   "metadata": {},
   "outputs": [
    {
     "name": "stdout",
     "output_type": "stream",
     "text": [
      "with author\n",
      "total:  9119\n",
      "percentage of the total of artworks:  73.27\n",
      "['DBpedia', 12446, 248, 0, 0, 9119]\n",
      "['DBpedia', 1.99, 0.0, 0.0, 73.27]\n",
      "authors with date\n",
      "total:  0\n",
      "percentage of the total of artworks:  0.0\n",
      "['DBpedia', 12446, 248, 0, 0, 9119, 0]\n",
      "['DBpedia', 1.99, 0.0, 0.0, 73.27, 0.0]\n",
      "authors with place\n",
      "total:  882\n",
      "percentage of the total of artworks:  7.09\n",
      "['DBpedia', 12446, 248, 0, 0, 9119, 0, 882]\n",
      "['DBpedia', 1.99, 0.0, 0.0, 73.27, 0.0, 7.09]\n"
     ]
    }
   ],
   "source": [
    "## authors\n",
    "print(\"with author\")\n",
    "db_auth = q_db_author_tot()\n",
    "db_auth_prop = pprint_prop(db_auth, db_art_tot, db_list, db_prop)\n",
    "\n",
    "## authors with date\n",
    "print(\"authors with date\")\n",
    "db_auth_date = q_db_author_date_tot()\n",
    "db_auth_date_prop = pprint_prop(db_auth_date, db_art_tot, db_list, db_prop)\n",
    "\n",
    "## authors with place\n",
    "print(\"authors with place\")\n",
    "db_auth_place = q_db_author_place_tot()\n",
    "db_auth_place_prop = pprint_prop(db_auth_place, db_art_tot, db_list, db_prop)"
   ]
  },
  {
   "cell_type": "markdown",
   "id": "8f19f56d-b174-44e5-b661-57255ad371aa",
   "metadata": {},
   "source": [
    "### Alignments"
   ]
  },
  {
   "cell_type": "code",
   "execution_count": 32,
   "id": "a341d5e9-1903-4daa-befe-675574dd3723",
   "metadata": {},
   "outputs": [
    {
     "name": "stdout",
     "output_type": "stream",
     "text": [
      "artworks with authors aligned to wikidata\n",
      "total:  7400\n",
      "percentage of the total of artworks:  59.46\n",
      "['DBpedia', 12446, 248, 0, 0, 9119, 0, 882, 7400]\n",
      "['DBpedia', 1.99, 0.0, 0.0, 73.27, 0.0, 7.09, 59.46]\n",
      "artworks with authors aligned to ulan\n",
      "total:  16\n",
      "percentage of the total of artworks:  0.13\n",
      "['DBpedia', 12446, 248, 0, 0, 9119, 0, 882, 7400, 16]\n",
      "['DBpedia', 1.99, 0.0, 0.0, 73.27, 0.0, 7.09, 59.46, 0.13]\n"
     ]
    }
   ],
   "source": [
    "\n",
    "# wd\n",
    "print(\"artworks with authors aligned to wikidata\")\n",
    "db_author_wd = q_db_author_wikidata_tot()\n",
    "db_prop_auth_wd = pprint_prop(db_author_wd, db_art_tot, db_list, db_prop)\n",
    "\n",
    "#ulan\n",
    "print(\"artworks with authors aligned to ulan\")\n",
    "db_author_ulan = q_db_author_ulan_tot()\n",
    "db_prop_auth_ulan = pprint_prop(db_author_ulan, db_art_tot, db_list, db_prop)"
   ]
  },
  {
   "cell_type": "code",
   "execution_count": 33,
   "id": "4deb82e8-bd1a-4f19-9a1b-7c0dee8b52ce",
   "metadata": {},
   "outputs": [],
   "source": [
    "# add  details to the main dataframe\n",
    "df_main.loc[len(df_main)] = db_list\n",
    "#df_main = df_main.append(pd.Series(_list, index=column_headers), ignore_index=True)\n",
    "df_prop.loc[len(df_prop)] = db_prop"
   ]
  },
  {
   "cell_type": "code",
   "execution_count": null,
   "id": "223f63bc-6b54-4dc7-a1b1-7b39ee2a1911",
   "metadata": {},
   "outputs": [],
   "source": []
  },
  {
   "cell_type": "markdown",
   "id": "db7613bd-7253-427a-bdcf-d38fcd1c47cd",
   "metadata": {},
   "source": [
    "## Wikidata"
   ]
  },
  {
   "cell_type": "code",
   "execution_count": 34,
   "id": "bf05dcb7-72ed-41be-843c-c2bd5714167c",
   "metadata": {},
   "outputs": [
    {
     "name": "stdout",
     "output_type": "stream",
     "text": [
      "3210565\n"
     ]
    }
   ],
   "source": [
    "wd_list = ['Wikidata']\n",
    "wd_prop = ['Wikidata']\n",
    "\n",
    "wd_art_tot = q_wd_tot()\n",
    "print(wd_art_tot)\n",
    "wd_list.append(wd_art_tot)"
   ]
  },
  {
   "cell_type": "code",
   "execution_count": 35,
   "id": "20ed7b00-2786-4eab-89f2-f602d2dda7f1",
   "metadata": {},
   "outputs": [
    {
     "name": "stdout",
     "output_type": "stream",
     "text": [
      "date\n",
      "total:  1086187\n",
      "percentage of the total of artworks:  33.83\n",
      "['Wikidata', 3210565, 1086187]\n",
      "['Wikidata', 33.83]\n",
      "place\n",
      "total:  58276\n",
      "percentage of the total of artworks:  1.82\n",
      "['Wikidata', 3210565, 1086187, 58276]\n",
      "['Wikidata', 33.83, 1.82]\n",
      "date and place\n",
      "total:  47210\n",
      "percentage of the total of artworks:  1.47\n",
      "['Wikidata', 3210565, 1086187, 58276, 47210]\n",
      "['Wikidata', 33.83, 1.82, 1.47]\n"
     ]
    }
   ],
   "source": [
    "\n",
    "# date\n",
    "print(\"date\")\n",
    "wd_date = q_wd_date_tot()\n",
    "wd_date_prop = pprint_prop(wd_date, wd_art_tot, wd_list, wd_prop)\n",
    "\n",
    "#place \n",
    "print(\"place\")\n",
    "wd_place = q_wd_place_tot()\n",
    "wd_date_prop = pprint_prop(wd_place, wd_art_tot, wd_list, wd_prop)\n",
    "\n",
    "# date and place\n",
    "print(\"date and place\")\n",
    "wd_date_place = q_wd_date_place_tot()\n",
    "wd_date_place_prop = pprint_prop(wd_date_place, wd_art_tot, wd_list, wd_prop)"
   ]
  },
  {
   "cell_type": "markdown",
   "id": "8126c7c3-fc50-41cf-946b-4aa28884ad97",
   "metadata": {},
   "source": [
    "### Author details"
   ]
  },
  {
   "cell_type": "code",
   "execution_count": 36,
   "id": "782b9317-fddb-48fa-8045-da38a9dd9b1c",
   "metadata": {},
   "outputs": [
    {
     "name": "stdout",
     "output_type": "stream",
     "text": [
      "with author\n",
      "total:  1222413\n",
      "percentage of the total of artworks:  38.07\n",
      "['Wikidata', 3210565, 1086187, 58276, 47210, 1222413]\n",
      "['Wikidata', 33.83, 1.82, 1.47, 38.07]\n",
      "authors with date\n",
      "total:  1052710\n",
      "percentage of the total of artworks:  32.79\n",
      "['Wikidata', 3210565, 1086187, 58276, 47210, 1222413, 1052710]\n",
      "['Wikidata', 33.83, 1.82, 1.47, 38.07, 32.79]\n",
      "authors with place\n"
     ]
    },
    {
     "ename": "EndPointInternalError",
     "evalue": "EndPointInternalError: The endpoint returned the HTTP status code 500. \n\nResponse:\nb'SPARQL-QUERY: queryStr= \\n    \\n    select (count(distinct ?art) as ?tot) where {\\n    \\n        wd:Q4502142 ^(wdt:P31/wdt:P279*)  ?art.\\n    ?art wdt:P170 / (wdt:P19 | wdt:P20) ?dated.\\n\\n    } \\n\\n    \\njava.util.concurrent.TimeoutException\\n\\tat java.util.concurrent.FutureTask.get(FutureTask.java:205)\\n\\tat com.bigdata.rdf.sail.webapp.BigdataServlet.submitApiTask(BigdataServlet.java:292)\\n\\tat com.bigdata.rdf.sail.webapp.QueryServlet.doSparqlQuery(QueryServlet.java:678)\\n\\tat com.bigdata.rdf.sail.webapp.QueryServlet.doGet(QueryServlet.java:290)\\n\\tat com.bigdata.rdf.sail.webapp.RESTServlet.doGet(RESTServlet.java:240)\\n\\tat com.bigdata.rdf.sail.webapp.MultiTenancyServlet.doGet(MultiTenancyServlet.java:273)\\n\\tat javax.servlet.http.HttpServlet.service(HttpServlet.java:687)\\n\\tat javax.servlet.http.HttpServlet.service(HttpServlet.java:790)\\n\\tat org.eclipse.jetty.servlet.ServletHolder.handle(ServletHolder.java:865)\\n\\tat org.eclipse.jetty.servlet.ServletHandler$CachedChain.doFilter(ServletHandler.java:1655)\\n\\tat org.wikidata.query.rdf.blazegraph.throttling.ThrottlingFilter.doFilter(ThrottlingFilter.java:322)\\n\\tat org.eclipse.jetty.servlet.ServletHandler$CachedChain.doFilter(ServletHandler.java:1642)\\n\\tat org.wikidata.query.rdf.blazegraph.throttling.SystemOverloadFilter.doFilter(SystemOverloadFilter.java:84)\\n\\tat org.eclipse.jetty.servlet.ServletHandler$CachedChain.doFilter(ServletHandler.java:1642)\\n\\tat ch.qos.logback.classic.helpers.MDCInsertingServletFilter.doFilter(MDCInsertingServletFilter.java:50)\\n\\tat org.eclipse.jetty.servlet.ServletHandler$CachedChain.doFilter(ServletHandler.java:1642)\\n\\tat org.wikidata.query.rdf.blazegraph.filters.QueryEventSenderFilter.doFilter(QueryEventSenderFilter.java:123)\\n\\tat org.eclipse.jetty.servlet.ServletHandler$CachedChain.doFilter(ServletHandler.java:1642)\\n\\tat org.wikidata.query.rdf.blazegraph.filters.ClientIPFilter.doFilter(ClientIPFilter.java:43)\\n\\tat org.eclipse.jetty.servlet.ServletHandler$CachedChain.doFilter(ServletHandler.java:1642)\\n\\tat org.wikidata.query.rdf.blazegraph.filters.JWTIdentityFilter.doFilter(JWTIdentityFilter.java:66)\\n\\tat org.eclipse.jetty.servlet.ServletHandler$CachedChain.doFilter(ServletHandler.java:1642)\\n\\tat org.wikidata.query.rdf.blazegraph.filters.RealAgentFilter.doFilter(RealAgentFilter.java:33)\\n\\tat org.eclipse.jetty.servlet.ServletHandler$CachedChain.doFilter(ServletHandler.java:1642)\\n\\tat org.wikidata.query.rdf.blazegraph.filters.RequestConcurrencyFilter.doFilter(RequestConcurrencyFilter.java:50)\\n\\tat org.eclipse.jetty.servlet.ServletHandler$CachedChain.doFilter(ServletHandler.java:1634)\\n\\tat org.eclipse.jetty.servlet.ServletHandler.doHandle(ServletHandler.java:533)\\n\\tat org.eclipse.jetty.server.handler.ScopedHandler.handle(ScopedHandler.java:146)\\n\\tat org.eclipse.jetty.security.SecurityHandler.handle(SecurityHandler.java:548)\\n\\tat org.eclipse.jetty.server.handler.HandlerWrapper.handle(HandlerWrapper.java:132)\\n\\tat org.eclipse.jetty.server.handler.ScopedHandler.nextHandle(ScopedHandler.java:257)\\n\\tat org.eclipse.jetty.server.session.SessionHandler.doHandle(SessionHandler.java:1595)\\n\\tat org.eclipse.jetty.server.handler.ScopedHandler.nextHandle(ScopedHandler.java:255)\\n\\tat org.eclipse.jetty.server.handler.ContextHandler.doHandle(ContextHandler.java:1340)\\n\\tat org.eclipse.jetty.server.handler.ScopedHandler.nextScope(ScopedHandler.java:203)\\n\\tat org.eclipse.jetty.servlet.ServletHandler.doScope(ServletHandler.java:473)\\n\\tat org.eclipse.jetty.server.session.SessionHandler.doScope(SessionHandler.java:1564)\\n\\tat org.eclipse.jetty.server.handler.ScopedHandler.nextScope(ScopedHandler.java:201)\\n\\tat org.eclipse.jetty.server.handler.ContextHandler.doScope(ContextHandler.java:1242)\\n\\tat org.eclipse.jetty.server.handler.ScopedHandler.handle(ScopedHandler.java:144)\\n\\tat org.eclipse.jetty.server.handler.ContextHandlerCollection.handle(ContextHandlerCollection.java:220)\\n\\tat org.eclipse.jetty.server.handler.HandlerCollection.handle(HandlerCollection.java:126)\\n\\tat org.eclipse.jetty.server.handler.HandlerWrapper.handle(HandlerWrapper.java:132)\\n\\tat org.eclipse.jetty.server.Server.handle(Server.java:503)\\n\\tat org.eclipse.jetty.server.HttpChannel.handle(HttpChannel.java:364)\\n\\tat org.eclipse.jetty.server.HttpConnection.onFillable(HttpConnection.java:260)\\n\\tat org.eclipse.jetty.io.AbstractConnection$ReadCallback.succeeded(AbstractConnection.java:305)\\n\\tat org.eclipse.jetty.io.FillInterest.fillable(FillInterest.java:103)\\n\\tat org.eclipse.jetty.io.ChannelEndPoint$2.run(ChannelEndPoint.java:118)\\n\\tat org.eclipse.jetty.util.thread.strategy.EatWhatYouKill.runTask(EatWhatYouKill.java:333)\\n\\tat org.eclipse.jetty.util.thread.strategy.EatWhatYouKill.doProduce(EatWhatYouKill.java:310)\\n\\tat org.eclipse.jetty.util.thread.strategy.EatWhatYouKill.tryProduce(EatWhatYouKill.java:168)\\n\\tat org.eclipse.jetty.util.thread.strategy.EatWhatYouKill.run(EatWhatYouKill.java:126)\\n\\tat org.eclipse.jetty.util.thread.ReservedThreadExecutor$ReservedThread.run(ReservedThreadExecutor.java:366)\\n\\tat org.eclipse.jetty.util.thread.QueuedThreadPool.runJob(QueuedThreadPool.java:765)\\n\\tat org.eclipse.jetty.util.thread.QueuedThreadPool$2.run(QueuedThreadPool.java:683)\\n\\tat java.lang.Thread.run(Thread.java:750)\\n'",
     "output_type": "error",
     "traceback": [
      "\u001b[1;31m---------------------------------------------------------------------------\u001b[0m",
      "\u001b[1;31mHTTPError\u001b[0m                                 Traceback (most recent call last)",
      "File \u001b[1;32m~\\AppData\\Local\\Programs\\Python\\Python312\\Lib\\site-packages\\SPARQLWrapper\\Wrapper.py:926\u001b[0m, in \u001b[0;36mSPARQLWrapper._query\u001b[1;34m(self)\u001b[0m\n\u001b[0;32m    925\u001b[0m \u001b[38;5;28;01melse\u001b[39;00m:\n\u001b[1;32m--> 926\u001b[0m     response \u001b[38;5;241m=\u001b[39m \u001b[43murlopener\u001b[49m\u001b[43m(\u001b[49m\u001b[43mrequest\u001b[49m\u001b[43m)\u001b[49m\n\u001b[0;32m    927\u001b[0m \u001b[38;5;28;01mreturn\u001b[39;00m response, \u001b[38;5;28mself\u001b[39m\u001b[38;5;241m.\u001b[39mreturnFormat\n",
      "File \u001b[1;32m~\\AppData\\Local\\Programs\\Python\\Python312\\Lib\\urllib\\request.py:215\u001b[0m, in \u001b[0;36murlopen\u001b[1;34m(url, data, timeout, cafile, capath, cadefault, context)\u001b[0m\n\u001b[0;32m    214\u001b[0m     opener \u001b[38;5;241m=\u001b[39m _opener\n\u001b[1;32m--> 215\u001b[0m \u001b[38;5;28;01mreturn\u001b[39;00m \u001b[43mopener\u001b[49m\u001b[38;5;241;43m.\u001b[39;49m\u001b[43mopen\u001b[49m\u001b[43m(\u001b[49m\u001b[43murl\u001b[49m\u001b[43m,\u001b[49m\u001b[43m \u001b[49m\u001b[43mdata\u001b[49m\u001b[43m,\u001b[49m\u001b[43m \u001b[49m\u001b[43mtimeout\u001b[49m\u001b[43m)\u001b[49m\n",
      "File \u001b[1;32m~\\AppData\\Local\\Programs\\Python\\Python312\\Lib\\urllib\\request.py:521\u001b[0m, in \u001b[0;36mOpenerDirector.open\u001b[1;34m(self, fullurl, data, timeout)\u001b[0m\n\u001b[0;32m    520\u001b[0m     meth \u001b[38;5;241m=\u001b[39m \u001b[38;5;28mgetattr\u001b[39m(processor, meth_name)\n\u001b[1;32m--> 521\u001b[0m     response \u001b[38;5;241m=\u001b[39m \u001b[43mmeth\u001b[49m\u001b[43m(\u001b[49m\u001b[43mreq\u001b[49m\u001b[43m,\u001b[49m\u001b[43m \u001b[49m\u001b[43mresponse\u001b[49m\u001b[43m)\u001b[49m\n\u001b[0;32m    523\u001b[0m \u001b[38;5;28;01mreturn\u001b[39;00m response\n",
      "File \u001b[1;32m~\\AppData\\Local\\Programs\\Python\\Python312\\Lib\\urllib\\request.py:630\u001b[0m, in \u001b[0;36mHTTPErrorProcessor.http_response\u001b[1;34m(self, request, response)\u001b[0m\n\u001b[0;32m    629\u001b[0m \u001b[38;5;28;01mif\u001b[39;00m \u001b[38;5;129;01mnot\u001b[39;00m (\u001b[38;5;241m200\u001b[39m \u001b[38;5;241m<\u001b[39m\u001b[38;5;241m=\u001b[39m code \u001b[38;5;241m<\u001b[39m \u001b[38;5;241m300\u001b[39m):\n\u001b[1;32m--> 630\u001b[0m     response \u001b[38;5;241m=\u001b[39m \u001b[38;5;28;43mself\u001b[39;49m\u001b[38;5;241;43m.\u001b[39;49m\u001b[43mparent\u001b[49m\u001b[38;5;241;43m.\u001b[39;49m\u001b[43merror\u001b[49m\u001b[43m(\u001b[49m\n\u001b[0;32m    631\u001b[0m \u001b[43m        \u001b[49m\u001b[38;5;124;43m'\u001b[39;49m\u001b[38;5;124;43mhttp\u001b[39;49m\u001b[38;5;124;43m'\u001b[39;49m\u001b[43m,\u001b[49m\u001b[43m \u001b[49m\u001b[43mrequest\u001b[49m\u001b[43m,\u001b[49m\u001b[43m \u001b[49m\u001b[43mresponse\u001b[49m\u001b[43m,\u001b[49m\u001b[43m \u001b[49m\u001b[43mcode\u001b[49m\u001b[43m,\u001b[49m\u001b[43m \u001b[49m\u001b[43mmsg\u001b[49m\u001b[43m,\u001b[49m\u001b[43m \u001b[49m\u001b[43mhdrs\u001b[49m\u001b[43m)\u001b[49m\n\u001b[0;32m    633\u001b[0m \u001b[38;5;28;01mreturn\u001b[39;00m response\n",
      "File \u001b[1;32m~\\AppData\\Local\\Programs\\Python\\Python312\\Lib\\urllib\\request.py:559\u001b[0m, in \u001b[0;36mOpenerDirector.error\u001b[1;34m(self, proto, *args)\u001b[0m\n\u001b[0;32m    558\u001b[0m args \u001b[38;5;241m=\u001b[39m (\u001b[38;5;28mdict\u001b[39m, \u001b[38;5;124m'\u001b[39m\u001b[38;5;124mdefault\u001b[39m\u001b[38;5;124m'\u001b[39m, \u001b[38;5;124m'\u001b[39m\u001b[38;5;124mhttp_error_default\u001b[39m\u001b[38;5;124m'\u001b[39m) \u001b[38;5;241m+\u001b[39m orig_args\n\u001b[1;32m--> 559\u001b[0m \u001b[38;5;28;01mreturn\u001b[39;00m \u001b[38;5;28;43mself\u001b[39;49m\u001b[38;5;241;43m.\u001b[39;49m\u001b[43m_call_chain\u001b[49m\u001b[43m(\u001b[49m\u001b[38;5;241;43m*\u001b[39;49m\u001b[43margs\u001b[49m\u001b[43m)\u001b[49m\n",
      "File \u001b[1;32m~\\AppData\\Local\\Programs\\Python\\Python312\\Lib\\urllib\\request.py:492\u001b[0m, in \u001b[0;36mOpenerDirector._call_chain\u001b[1;34m(self, chain, kind, meth_name, *args)\u001b[0m\n\u001b[0;32m    491\u001b[0m func \u001b[38;5;241m=\u001b[39m \u001b[38;5;28mgetattr\u001b[39m(handler, meth_name)\n\u001b[1;32m--> 492\u001b[0m result \u001b[38;5;241m=\u001b[39m \u001b[43mfunc\u001b[49m\u001b[43m(\u001b[49m\u001b[38;5;241;43m*\u001b[39;49m\u001b[43margs\u001b[49m\u001b[43m)\u001b[49m\n\u001b[0;32m    493\u001b[0m \u001b[38;5;28;01mif\u001b[39;00m result \u001b[38;5;129;01mis\u001b[39;00m \u001b[38;5;129;01mnot\u001b[39;00m \u001b[38;5;28;01mNone\u001b[39;00m:\n",
      "File \u001b[1;32m~\\AppData\\Local\\Programs\\Python\\Python312\\Lib\\urllib\\request.py:639\u001b[0m, in \u001b[0;36mHTTPDefaultErrorHandler.http_error_default\u001b[1;34m(self, req, fp, code, msg, hdrs)\u001b[0m\n\u001b[0;32m    638\u001b[0m \u001b[38;5;28;01mdef\u001b[39;00m \u001b[38;5;21mhttp_error_default\u001b[39m(\u001b[38;5;28mself\u001b[39m, req, fp, code, msg, hdrs):\n\u001b[1;32m--> 639\u001b[0m     \u001b[38;5;28;01mraise\u001b[39;00m HTTPError(req\u001b[38;5;241m.\u001b[39mfull_url, code, msg, hdrs, fp)\n",
      "\u001b[1;31mHTTPError\u001b[0m: HTTP Error 500: Internal Server Error",
      "\nDuring handling of the above exception, another exception occurred:\n",
      "\u001b[1;31mEndPointInternalError\u001b[0m                     Traceback (most recent call last)",
      "Cell \u001b[1;32mIn[36], line 13\u001b[0m\n\u001b[0;32m     11\u001b[0m \u001b[38;5;66;03m## authors with place\u001b[39;00m\n\u001b[0;32m     12\u001b[0m \u001b[38;5;28mprint\u001b[39m(\u001b[38;5;124m\"\u001b[39m\u001b[38;5;124mauthors with place\u001b[39m\u001b[38;5;124m\"\u001b[39m)\n\u001b[1;32m---> 13\u001b[0m wd_auth_place \u001b[38;5;241m=\u001b[39m \u001b[43mq_wd_author_place_tot\u001b[49m\u001b[43m(\u001b[49m\u001b[43m)\u001b[49m\n\u001b[0;32m     14\u001b[0m wd_auth_place_prop \u001b[38;5;241m=\u001b[39m pprint_prop(wd_auth_place, wd_art_tot, wd_list, wd_prop)\n",
      "File \u001b[1;32m~\\Documents\\PythonScripts\\data-exploration\\queries\\wikidata.py:284\u001b[0m, in \u001b[0;36mq_wd_author_place_tot\u001b[1;34m()\u001b[0m\n\u001b[0;32m    273\u001b[0m \u001b[38;5;124m\"\u001b[39m\u001b[38;5;124mCount of artworks having an author specified\u001b[39m\u001b[38;5;124m\"\u001b[39m\n\u001b[0;32m    274\u001b[0m q \u001b[38;5;241m=\u001b[39m \u001b[38;5;124m\"\"\"\u001b[39m\u001b[38;5;124m \u001b[39m\n\u001b[0;32m    275\u001b[0m \u001b[38;5;124m\u001b[39m\n\u001b[0;32m    276\u001b[0m \u001b[38;5;124mselect (count(distinct ?art) as ?tot) where \u001b[39m\u001b[38;5;124m{\u001b[39m\n\u001b[1;32m   (...)\u001b[0m\n\u001b[0;32m    282\u001b[0m \n\u001b[0;32m    283\u001b[0m \u001b[38;5;124m\u001b[39m\u001b[38;5;124m\"\"\"\u001b[39m\n\u001b[1;32m--> 284\u001b[0m res \u001b[38;5;241m=\u001b[39m \u001b[43msparql_query_setting\u001b[49m\u001b[43m(\u001b[49m\u001b[43mq\u001b[49m\u001b[43m,\u001b[49m\u001b[43m \u001b[49m\u001b[43mwikidata_endpoint\u001b[49m\u001b[43m)\u001b[49m\n\u001b[0;32m    286\u001b[0m tot \u001b[38;5;241m=\u001b[39m  res[\u001b[38;5;124m\"\u001b[39m\u001b[38;5;124mresults\u001b[39m\u001b[38;5;124m\"\u001b[39m][\u001b[38;5;124m\"\u001b[39m\u001b[38;5;124mbindings\u001b[39m\u001b[38;5;124m\"\u001b[39m][\u001b[38;5;241m0\u001b[39m][\u001b[38;5;124m\"\u001b[39m\u001b[38;5;124mtot\u001b[39m\u001b[38;5;124m\"\u001b[39m][\u001b[38;5;124m\"\u001b[39m\u001b[38;5;124mvalue\u001b[39m\u001b[38;5;124m\"\u001b[39m]\n\u001b[0;32m    287\u001b[0m \u001b[38;5;28;01mreturn\u001b[39;00m \u001b[38;5;28mint\u001b[39m(tot)\n",
      "File \u001b[1;32m~\\Documents\\PythonScripts\\data-exploration\\queries\\functions.py:12\u001b[0m, in \u001b[0;36msparql_query_setting\u001b[1;34m(query, endpoint)\u001b[0m\n\u001b[0;32m     10\u001b[0m sparql\u001b[38;5;241m.\u001b[39msetReturnFormat(JSON)\n\u001b[0;32m     11\u001b[0m \u001b[38;5;66;03m# get the results\u001b[39;00m\n\u001b[1;32m---> 12\u001b[0m results \u001b[38;5;241m=\u001b[39m \u001b[43msparql\u001b[49m\u001b[38;5;241;43m.\u001b[39;49m\u001b[43mquery\u001b[49m\u001b[43m(\u001b[49m\u001b[43m)\u001b[49m\u001b[38;5;241m.\u001b[39mconvert()\n\u001b[0;32m     13\u001b[0m \u001b[38;5;28;01mreturn\u001b[39;00m results\n",
      "File \u001b[1;32m~\\AppData\\Local\\Programs\\Python\\Python312\\Lib\\site-packages\\SPARQLWrapper\\Wrapper.py:960\u001b[0m, in \u001b[0;36mSPARQLWrapper.query\u001b[1;34m(self)\u001b[0m\n\u001b[0;32m    942\u001b[0m \u001b[38;5;28;01mdef\u001b[39;00m \u001b[38;5;21mquery\u001b[39m(\u001b[38;5;28mself\u001b[39m) \u001b[38;5;241m-\u001b[39m\u001b[38;5;241m>\u001b[39m \u001b[38;5;124m\"\u001b[39m\u001b[38;5;124mQueryResult\u001b[39m\u001b[38;5;124m\"\u001b[39m:\n\u001b[0;32m    943\u001b[0m \u001b[38;5;250m    \u001b[39m\u001b[38;5;124;03m\"\"\"\u001b[39;00m\n\u001b[0;32m    944\u001b[0m \u001b[38;5;124;03m    Execute the query.\u001b[39;00m\n\u001b[0;32m    945\u001b[0m \u001b[38;5;124;03m    Exceptions can be raised if either the URI is wrong or the HTTP sends back an error (this is also the\u001b[39;00m\n\u001b[1;32m   (...)\u001b[0m\n\u001b[0;32m    958\u001b[0m \u001b[38;5;124;03m    :rtype: :class:`QueryResult` instance\u001b[39;00m\n\u001b[0;32m    959\u001b[0m \u001b[38;5;124;03m    \"\"\"\u001b[39;00m\n\u001b[1;32m--> 960\u001b[0m     \u001b[38;5;28;01mreturn\u001b[39;00m QueryResult(\u001b[38;5;28;43mself\u001b[39;49m\u001b[38;5;241;43m.\u001b[39;49m\u001b[43m_query\u001b[49m\u001b[43m(\u001b[49m\u001b[43m)\u001b[49m)\n",
      "File \u001b[1;32m~\\AppData\\Local\\Programs\\Python\\Python312\\Lib\\site-packages\\SPARQLWrapper\\Wrapper.py:938\u001b[0m, in \u001b[0;36mSPARQLWrapper._query\u001b[1;34m(self)\u001b[0m\n\u001b[0;32m    936\u001b[0m     \u001b[38;5;28;01mraise\u001b[39;00m URITooLong(e\u001b[38;5;241m.\u001b[39mread())\n\u001b[0;32m    937\u001b[0m \u001b[38;5;28;01melif\u001b[39;00m e\u001b[38;5;241m.\u001b[39mcode \u001b[38;5;241m==\u001b[39m \u001b[38;5;241m500\u001b[39m:\n\u001b[1;32m--> 938\u001b[0m     \u001b[38;5;28;01mraise\u001b[39;00m EndPointInternalError(e\u001b[38;5;241m.\u001b[39mread())\n\u001b[0;32m    939\u001b[0m \u001b[38;5;28;01melse\u001b[39;00m:\n\u001b[0;32m    940\u001b[0m     \u001b[38;5;28;01mraise\u001b[39;00m e\n",
      "\u001b[1;31mEndPointInternalError\u001b[0m: EndPointInternalError: The endpoint returned the HTTP status code 500. \n\nResponse:\nb'SPARQL-QUERY: queryStr= \\n    \\n    select (count(distinct ?art) as ?tot) where {\\n    \\n        wd:Q4502142 ^(wdt:P31/wdt:P279*)  ?art.\\n    ?art wdt:P170 / (wdt:P19 | wdt:P20) ?dated.\\n\\n    } \\n\\n    \\njava.util.concurrent.TimeoutException\\n\\tat java.util.concurrent.FutureTask.get(FutureTask.java:205)\\n\\tat com.bigdata.rdf.sail.webapp.BigdataServlet.submitApiTask(BigdataServlet.java:292)\\n\\tat com.bigdata.rdf.sail.webapp.QueryServlet.doSparqlQuery(QueryServlet.java:678)\\n\\tat com.bigdata.rdf.sail.webapp.QueryServlet.doGet(QueryServlet.java:290)\\n\\tat com.bigdata.rdf.sail.webapp.RESTServlet.doGet(RESTServlet.java:240)\\n\\tat com.bigdata.rdf.sail.webapp.MultiTenancyServlet.doGet(MultiTenancyServlet.java:273)\\n\\tat javax.servlet.http.HttpServlet.service(HttpServlet.java:687)\\n\\tat javax.servlet.http.HttpServlet.service(HttpServlet.java:790)\\n\\tat org.eclipse.jetty.servlet.ServletHolder.handle(ServletHolder.java:865)\\n\\tat org.eclipse.jetty.servlet.ServletHandler$CachedChain.doFilter(ServletHandler.java:1655)\\n\\tat org.wikidata.query.rdf.blazegraph.throttling.ThrottlingFilter.doFilter(ThrottlingFilter.java:322)\\n\\tat org.eclipse.jetty.servlet.ServletHandler$CachedChain.doFilter(ServletHandler.java:1642)\\n\\tat org.wikidata.query.rdf.blazegraph.throttling.SystemOverloadFilter.doFilter(SystemOverloadFilter.java:84)\\n\\tat org.eclipse.jetty.servlet.ServletHandler$CachedChain.doFilter(ServletHandler.java:1642)\\n\\tat ch.qos.logback.classic.helpers.MDCInsertingServletFilter.doFilter(MDCInsertingServletFilter.java:50)\\n\\tat org.eclipse.jetty.servlet.ServletHandler$CachedChain.doFilter(ServletHandler.java:1642)\\n\\tat org.wikidata.query.rdf.blazegraph.filters.QueryEventSenderFilter.doFilter(QueryEventSenderFilter.java:123)\\n\\tat org.eclipse.jetty.servlet.ServletHandler$CachedChain.doFilter(ServletHandler.java:1642)\\n\\tat org.wikidata.query.rdf.blazegraph.filters.ClientIPFilter.doFilter(ClientIPFilter.java:43)\\n\\tat org.eclipse.jetty.servlet.ServletHandler$CachedChain.doFilter(ServletHandler.java:1642)\\n\\tat org.wikidata.query.rdf.blazegraph.filters.JWTIdentityFilter.doFilter(JWTIdentityFilter.java:66)\\n\\tat org.eclipse.jetty.servlet.ServletHandler$CachedChain.doFilter(ServletHandler.java:1642)\\n\\tat org.wikidata.query.rdf.blazegraph.filters.RealAgentFilter.doFilter(RealAgentFilter.java:33)\\n\\tat org.eclipse.jetty.servlet.ServletHandler$CachedChain.doFilter(ServletHandler.java:1642)\\n\\tat org.wikidata.query.rdf.blazegraph.filters.RequestConcurrencyFilter.doFilter(RequestConcurrencyFilter.java:50)\\n\\tat org.eclipse.jetty.servlet.ServletHandler$CachedChain.doFilter(ServletHandler.java:1634)\\n\\tat org.eclipse.jetty.servlet.ServletHandler.doHandle(ServletHandler.java:533)\\n\\tat org.eclipse.jetty.server.handler.ScopedHandler.handle(ScopedHandler.java:146)\\n\\tat org.eclipse.jetty.security.SecurityHandler.handle(SecurityHandler.java:548)\\n\\tat org.eclipse.jetty.server.handler.HandlerWrapper.handle(HandlerWrapper.java:132)\\n\\tat org.eclipse.jetty.server.handler.ScopedHandler.nextHandle(ScopedHandler.java:257)\\n\\tat org.eclipse.jetty.server.session.SessionHandler.doHandle(SessionHandler.java:1595)\\n\\tat org.eclipse.jetty.server.handler.ScopedHandler.nextHandle(ScopedHandler.java:255)\\n\\tat org.eclipse.jetty.server.handler.ContextHandler.doHandle(ContextHandler.java:1340)\\n\\tat org.eclipse.jetty.server.handler.ScopedHandler.nextScope(ScopedHandler.java:203)\\n\\tat org.eclipse.jetty.servlet.ServletHandler.doScope(ServletHandler.java:473)\\n\\tat org.eclipse.jetty.server.session.SessionHandler.doScope(SessionHandler.java:1564)\\n\\tat org.eclipse.jetty.server.handler.ScopedHandler.nextScope(ScopedHandler.java:201)\\n\\tat org.eclipse.jetty.server.handler.ContextHandler.doScope(ContextHandler.java:1242)\\n\\tat org.eclipse.jetty.server.handler.ScopedHandler.handle(ScopedHandler.java:144)\\n\\tat org.eclipse.jetty.server.handler.ContextHandlerCollection.handle(ContextHandlerCollection.java:220)\\n\\tat org.eclipse.jetty.server.handler.HandlerCollection.handle(HandlerCollection.java:126)\\n\\tat org.eclipse.jetty.server.handler.HandlerWrapper.handle(HandlerWrapper.java:132)\\n\\tat org.eclipse.jetty.server.Server.handle(Server.java:503)\\n\\tat org.eclipse.jetty.server.HttpChannel.handle(HttpChannel.java:364)\\n\\tat org.eclipse.jetty.server.HttpConnection.onFillable(HttpConnection.java:260)\\n\\tat org.eclipse.jetty.io.AbstractConnection$ReadCallback.succeeded(AbstractConnection.java:305)\\n\\tat org.eclipse.jetty.io.FillInterest.fillable(FillInterest.java:103)\\n\\tat org.eclipse.jetty.io.ChannelEndPoint$2.run(ChannelEndPoint.java:118)\\n\\tat org.eclipse.jetty.util.thread.strategy.EatWhatYouKill.runTask(EatWhatYouKill.java:333)\\n\\tat org.eclipse.jetty.util.thread.strategy.EatWhatYouKill.doProduce(EatWhatYouKill.java:310)\\n\\tat org.eclipse.jetty.util.thread.strategy.EatWhatYouKill.tryProduce(EatWhatYouKill.java:168)\\n\\tat org.eclipse.jetty.util.thread.strategy.EatWhatYouKill.run(EatWhatYouKill.java:126)\\n\\tat org.eclipse.jetty.util.thread.ReservedThreadExecutor$ReservedThread.run(ReservedThreadExecutor.java:366)\\n\\tat org.eclipse.jetty.util.thread.QueuedThreadPool.runJob(QueuedThreadPool.java:765)\\n\\tat org.eclipse.jetty.util.thread.QueuedThreadPool$2.run(QueuedThreadPool.java:683)\\n\\tat java.lang.Thread.run(Thread.java:750)\\n'"
     ]
    }
   ],
   "source": [
    "## authors\n",
    "print(\"with author\")\n",
    "wd_auth = q_wd_author_tot()\n",
    "wd_auth_prop = pprint_prop(wd_auth, wd_art_tot, wd_list, wd_prop)\n",
    "\n",
    "## authors with date\n",
    "print(\"authors with date\")\n",
    "wd_auth_date = q_wd_author_date_tot()\n",
    "wd_auth_date_prop = pprint_prop(wd_auth_date, wd_art_tot, wd_list, wd_prop)\n",
    "\n",
    "## authors with place\n",
    "print(\"authors with place\")\n",
    "wd_auth_place = q_wd_author_place_tot()\n",
    "wd_auth_place_prop = pprint_prop(wd_auth_place, wd_art_tot, wd_list, wd_prop)"
   ]
  },
  {
   "cell_type": "code",
   "execution_count": 37,
   "id": "19bcb80e-7f7f-49da-ad94-b8116734a28f",
   "metadata": {},
   "outputs": [
    {
     "name": "stdout",
     "output_type": "stream",
     "text": [
      "authors with place\n",
      "total:  944201\n",
      "percentage of the total of artworks:  29.41\n",
      "['Wikidata', 3210565, 1086187, 58276, 47210, 1222413, 1052710, 944201]\n",
      "['Wikidata', 33.83, 1.82, 1.47, 38.07, 32.79, 29.41]\n"
     ]
    }
   ],
   "source": [
    "print(\"authors with place\")\n",
    "wd_auth_place = 944201\n",
    "wd_auth_place_prop = pprint_prop(wd_auth_place, wd_art_tot, wd_list, wd_prop)"
   ]
  },
  {
   "cell_type": "markdown",
   "id": "7009c038-5ca2-4a8e-ad13-106713df7c82",
   "metadata": {},
   "source": [
    "### Alignments"
   ]
  },
  {
   "cell_type": "code",
   "execution_count": 38,
   "id": "64482750-52f1-4658-97d3-cd1bbd5211af",
   "metadata": {},
   "outputs": [
    {
     "name": "stdout",
     "output_type": "stream",
     "text": [
      "artworks with authors aligned to wikidata\n",
      "total:  0\n",
      "percentage of the total of artworks:  0.0\n",
      "['Wikidata', 3210565, 1086187, 58276, 47210, 1222413, 1052710, 944201, 0]\n",
      "['Wikidata', 33.83, 1.82, 1.47, 38.07, 32.79, 29.41, 0.0]\n",
      "artworks with authors aligned to ulan\n",
      "total:  827218\n",
      "percentage of the total of artworks:  25.77\n",
      "['Wikidata', 3210565, 1086187, 58276, 47210, 1222413, 1052710, 944201, 0, 827218]\n",
      "['Wikidata', 33.83, 1.82, 1.47, 38.07, 32.79, 29.41, 0.0, 25.77]\n"
     ]
    }
   ],
   "source": [
    "\n",
    "# wd\n",
    "print(\"artworks with authors aligned to wikidata\")\n",
    "wd_author_wd = q_wd_author_wikidata_tot()\n",
    "wd_prop_auth_wd = pprint_prop(wd_author_wd, wd_art_tot, wd_list, wd_prop)\n",
    "\n",
    "#ulan\n",
    "print(\"artworks with authors aligned to ulan\")\n",
    "wd_author_ulan = q_wd_author_ulan_tot()\n",
    "wd_prop_auth_ulan = pprint_prop(wd_author_ulan, wd_art_tot, wd_list, wd_prop)"
   ]
  },
  {
   "cell_type": "code",
   "execution_count": 39,
   "id": "e4b42c04-2dec-497b-aaec-64961249f814",
   "metadata": {},
   "outputs": [],
   "source": [
    "# add  details to the main dataframe\n",
    "df_main.loc[len(df_main)] = wd_list\n",
    "#df_main = df_main.append(pd.Series(_list, index=column_headers), ignore_index=True)\n",
    "df_prop.loc[len(df_prop)] = wd_prop"
   ]
  },
  {
   "cell_type": "markdown",
   "id": "0c508c05-e4f7-4b65-b493-b2fcffaa3228",
   "metadata": {},
   "source": [
    "# Rijksmuseum"
   ]
  },
  {
   "cell_type": "code",
   "execution_count": 40,
   "id": "751a21be-c5e5-4c6f-92f4-798d6181777a",
   "metadata": {},
   "outputs": [
    {
     "name": "stdout",
     "output_type": "stream",
     "text": [
      "662978\n"
     ]
    }
   ],
   "source": [
    "rk_list = ['Rijksmuseum']\n",
    "rk_prop = ['Rijksmuseum']\n",
    "\n",
    "rk_art_tot = q_rk_tot()\n",
    "print(rk_art_tot)\n",
    "rk_list.append(rk_art_tot)"
   ]
  },
  {
   "cell_type": "code",
   "execution_count": 41,
   "id": "2f80faaa-0bea-4223-a2fa-7e2b6a4d29ee",
   "metadata": {},
   "outputs": [
    {
     "name": "stdout",
     "output_type": "stream",
     "text": [
      "date\n",
      "total:  662978\n",
      "percentage of the total of artworks:  100.0\n",
      "['Rijksmuseum', 662978, 662978]\n",
      "['Rijksmuseum', 100.0]\n",
      "place\n",
      "total:  457968\n",
      "percentage of the total of artworks:  69.08\n",
      "['Rijksmuseum', 662978, 662978, 457968]\n",
      "['Rijksmuseum', 100.0, 69.08]\n",
      "date and place\n",
      "total:  456207\n",
      "percentage of the total of artworks:  68.81\n",
      "['Rijksmuseum', 662978, 662978, 457968, 456207]\n",
      "['Rijksmuseum', 100.0, 69.08, 68.81]\n"
     ]
    }
   ],
   "source": [
    "\n",
    "# date\n",
    "print(\"date\")\n",
    "rk_date = q_rk_date_tot()\n",
    "rk_date_prop = pprint_prop(rk_date, rk_art_tot, rk_list, rk_prop)\n",
    "\n",
    "#place \n",
    "print(\"place\")\n",
    "rk_place = q_rk_place_tot()\n",
    "rk_date_prop = pprint_prop(rk_place, rk_art_tot, rk_list, rk_prop)\n",
    "\n",
    "# date and place\n",
    "print(\"date and place\")\n",
    "rk_date_place = q_rk_date_place_tot()\n",
    "rk_date_place_prop = pprint_prop(rk_date_place, rk_art_tot, rk_list, rk_prop)"
   ]
  },
  {
   "cell_type": "markdown",
   "id": "33738bfd-b54c-451f-882e-227ac888c653",
   "metadata": {},
   "source": [
    "### Author details"
   ]
  },
  {
   "cell_type": "code",
   "execution_count": 42,
   "id": "cd4c14fe-df31-44cb-89df-381d4800dea1",
   "metadata": {},
   "outputs": [
    {
     "name": "stdout",
     "output_type": "stream",
     "text": [
      "with author\n",
      "total:  619843\n",
      "percentage of the total of artworks:  93.49\n",
      "['Rijksmuseum', 662978, 662978, 457968, 456207, 619843]\n",
      "['Rijksmuseum', 100.0, 69.08, 68.81, 93.49]\n",
      "authors with date\n",
      "total:  401050\n",
      "percentage of the total of artworks:  60.49\n",
      "['Rijksmuseum', 662978, 662978, 457968, 456207, 619843, 401050]\n",
      "['Rijksmuseum', 100.0, 69.08, 68.81, 93.49, 60.49]\n",
      "authors with place\n",
      "total:  375785\n",
      "percentage of the total of artworks:  56.68\n",
      "['Rijksmuseum', 662978, 662978, 457968, 456207, 619843, 401050, 375785]\n",
      "['Rijksmuseum', 100.0, 69.08, 68.81, 93.49, 60.49, 56.68]\n"
     ]
    }
   ],
   "source": [
    "## authors\n",
    "print(\"with author\")\n",
    "rk_auth = q_rk_author_tot()\n",
    "rk_auth_prop = pprint_prop(rk_auth, rk_art_tot, rk_list, rk_prop)\n",
    "\n",
    "## authors with date\n",
    "print(\"authors with date\")\n",
    "rk_auth_date = q_rk_author_date_tot()\n",
    "rk_auth_date_prop = pprint_prop(rk_auth_date, rk_art_tot, rk_list, rk_prop)\n",
    "\n",
    "## authors with place\n",
    "print(\"authors with place\")\n",
    "rk_auth_place = q_rk_author_place_tot()\n",
    "rk_auth_place_prop = pprint_prop(rk_auth_place, rk_art_tot, rk_list, rk_prop)"
   ]
  },
  {
   "cell_type": "markdown",
   "id": "a958d415-d169-483b-8a94-2de125bc3246",
   "metadata": {},
   "source": [
    "### Alignments"
   ]
  },
  {
   "cell_type": "code",
   "execution_count": 43,
   "id": "78d2c36a-2855-47a5-9540-d26a88248271",
   "metadata": {},
   "outputs": [
    {
     "name": "stdout",
     "output_type": "stream",
     "text": [
      "artworks with authors aligned to Wikidata\n",
      "total:  0\n",
      "percentage of the total of artworks:  0.0\n",
      "['Rijksmuseum', 662978, 662978, 457968, 456207, 619843, 401050, 375785, 0]\n",
      "['Rijksmuseum', 100.0, 69.08, 68.81, 93.49, 60.49, 56.68, 0.0]\n",
      "artworks with authors aligned to Wikidata or ULAN\n",
      "total:  0\n",
      "percentage of the total of artworks:  0.0\n",
      "['Rijksmuseum', 662978, 662978, 457968, 456207, 619843, 401050, 375785, 0, 0]\n",
      "['Rijksmuseum', 100.0, 69.08, 68.81, 93.49, 60.49, 56.68, 0.0, 0.0]\n"
     ]
    }
   ],
   "source": [
    "print(\"artworks with authors aligned to Wikidata\")\n",
    "rk_aligned_wd = q_rk_art_aligned_tot()\n",
    "rk_prop_auth_rk = pprint_prop(rk_aligned_wd, rk_art_tot, rk_list, rk_prop)\n",
    "\n",
    "# rk\n",
    "print(\"artworks with authors aligned to Wikidata or ULAN\")\n",
    "rk_author_rk = q_rk_author_aligned_tot()\n",
    "rk_prop_auth_rk = pprint_prop(rk_author_rk, rk_art_tot, rk_list, rk_prop)"
   ]
  },
  {
   "cell_type": "code",
   "execution_count": 44,
   "id": "14f1467e-22cd-4c9d-b9ed-bfce3c88962b",
   "metadata": {},
   "outputs": [],
   "source": [
    "# add  details to the main dataframe\n",
    "df_main.loc[len(df_main)] = rk_list\n",
    "#df_main = df_main.append(pd.Series(_list, index=column_headers), ignore_index=True)\n",
    "df_prop.loc[len(df_prop)] = rk_prop"
   ]
  },
  {
   "cell_type": "code",
   "execution_count": null,
   "id": "8b022cb4-c72b-474d-b988-d4548e6575a5",
   "metadata": {},
   "outputs": [],
   "source": [
    "#df_main.to_csv('rk_results.csv', index=False)\n",
    "#df_prop.to_csv('rk_results_prop.csv', index=False)"
   ]
  },
  {
   "cell_type": "markdown",
   "id": "4518063f-454f-4f66-9ed2-b23cc0153a0e",
   "metadata": {},
   "source": [
    "## Save results"
   ]
  },
  {
   "cell_type": "code",
   "execution_count": 48,
   "id": "01159e75-28fe-4209-9263-04397c521131",
   "metadata": {},
   "outputs": [],
   "source": [
    "# save results\n",
    "df_main.to_csv('results_main.csv', index=False)\n",
    "df_prop.to_csv('results_prop.csv', index=False)"
   ]
  },
  {
   "cell_type": "code",
   "execution_count": null,
   "id": "93c8eb2e-b0f1-4745-9dfd-1616e2cfc5e1",
   "metadata": {},
   "outputs": [],
   "source": []
  },
  {
   "cell_type": "markdown",
   "id": "ebbe7287-10da-467c-9210-eb70cf53b445",
   "metadata": {},
   "source": [
    "## Final visualization"
   ]
  },
  {
   "cell_type": "code",
   "execution_count": null,
   "id": "9d5b194d-22f8-40ee-97b6-e74481fdaf27",
   "metadata": {},
   "outputs": [],
   "source": []
  },
  {
   "cell_type": "code",
   "execution_count": 45,
   "id": "ecfe3fd4-1a69-4f3a-9d86-8e9900786170",
   "metadata": {},
   "outputs": [
    {
     "data": {
      "text/html": [
       "<div>\n",
       "<style scoped>\n",
       "    .dataframe tbody tr th:only-of-type {\n",
       "        vertical-align: middle;\n",
       "    }\n",
       "\n",
       "    .dataframe tbody tr th {\n",
       "        vertical-align: top;\n",
       "    }\n",
       "\n",
       "    .dataframe thead th {\n",
       "        text-align: right;\n",
       "    }\n",
       "</style>\n",
       "<table border=\"1\" class=\"dataframe\">\n",
       "  <thead>\n",
       "    <tr style=\"text-align: right;\">\n",
       "      <th></th>\n",
       "      <th>With date</th>\n",
       "      <th>With place</th>\n",
       "      <th>With date and place</th>\n",
       "      <th>With author</th>\n",
       "      <th>With author with date</th>\n",
       "      <th>With author with place</th>\n",
       "      <th>Aligned to Wikidata</th>\n",
       "      <th>With author aligned to ULAN or Wikidata</th>\n",
       "    </tr>\n",
       "    <tr>\n",
       "      <th>Dataset</th>\n",
       "      <th></th>\n",
       "      <th></th>\n",
       "      <th></th>\n",
       "      <th></th>\n",
       "      <th></th>\n",
       "      <th></th>\n",
       "      <th></th>\n",
       "      <th></th>\n",
       "    </tr>\n",
       "  </thead>\n",
       "  <tbody>\n",
       "    <tr>\n",
       "      <th>Arco</th>\n",
       "      <td>98.08</td>\n",
       "      <td>0.05</td>\n",
       "      <td>0.05</td>\n",
       "      <td>24.00</td>\n",
       "      <td>11.81</td>\n",
       "      <td>11.86</td>\n",
       "      <td>6.81</td>\n",
       "      <td>0.00</td>\n",
       "    </tr>\n",
       "    <tr>\n",
       "      <th>Zeri</th>\n",
       "      <td>99.64</td>\n",
       "      <td>0.00</td>\n",
       "      <td>0.00</td>\n",
       "      <td>94.92</td>\n",
       "      <td>0.00</td>\n",
       "      <td>0.00</td>\n",
       "      <td>0.00</td>\n",
       "      <td>0.00</td>\n",
       "    </tr>\n",
       "    <tr>\n",
       "      <th>Europeana</th>\n",
       "      <td>82.86</td>\n",
       "      <td>47.53</td>\n",
       "      <td>41.34</td>\n",
       "      <td>30.37</td>\n",
       "      <td>18.53</td>\n",
       "      <td>0.00</td>\n",
       "      <td>0.03</td>\n",
       "      <td>0.03</td>\n",
       "    </tr>\n",
       "    <tr>\n",
       "      <th>DBpedia</th>\n",
       "      <td>1.99</td>\n",
       "      <td>0.00</td>\n",
       "      <td>0.00</td>\n",
       "      <td>73.27</td>\n",
       "      <td>0.00</td>\n",
       "      <td>7.09</td>\n",
       "      <td>59.46</td>\n",
       "      <td>0.13</td>\n",
       "    </tr>\n",
       "    <tr>\n",
       "      <th>Wikidata</th>\n",
       "      <td>33.83</td>\n",
       "      <td>1.82</td>\n",
       "      <td>1.47</td>\n",
       "      <td>38.07</td>\n",
       "      <td>32.79</td>\n",
       "      <td>29.41</td>\n",
       "      <td>0.00</td>\n",
       "      <td>25.77</td>\n",
       "    </tr>\n",
       "    <tr>\n",
       "      <th>Rijksmuseum</th>\n",
       "      <td>100.00</td>\n",
       "      <td>69.08</td>\n",
       "      <td>68.81</td>\n",
       "      <td>93.49</td>\n",
       "      <td>60.49</td>\n",
       "      <td>56.68</td>\n",
       "      <td>0.00</td>\n",
       "      <td>0.00</td>\n",
       "    </tr>\n",
       "  </tbody>\n",
       "</table>\n",
       "</div>"
      ],
      "text/plain": [
       "             With date  With place  With date and place  With author  \\\n",
       "Dataset                                                                \n",
       "Arco             98.08        0.05                 0.05        24.00   \n",
       "Zeri             99.64        0.00                 0.00        94.92   \n",
       "Europeana        82.86       47.53                41.34        30.37   \n",
       "DBpedia           1.99        0.00                 0.00        73.27   \n",
       "Wikidata         33.83        1.82                 1.47        38.07   \n",
       "Rijksmuseum     100.00       69.08                68.81        93.49   \n",
       "\n",
       "             With author with date  With author with place  \\\n",
       "Dataset                                                      \n",
       "Arco                         11.81                   11.86   \n",
       "Zeri                          0.00                    0.00   \n",
       "Europeana                    18.53                    0.00   \n",
       "DBpedia                       0.00                    7.09   \n",
       "Wikidata                     32.79                   29.41   \n",
       "Rijksmuseum                  60.49                   56.68   \n",
       "\n",
       "             Aligned to Wikidata  With author aligned to ULAN or Wikidata  \n",
       "Dataset                                                                    \n",
       "Arco                        6.81                                     0.00  \n",
       "Zeri                        0.00                                     0.00  \n",
       "Europeana                   0.03                                     0.03  \n",
       "DBpedia                    59.46                                     0.13  \n",
       "Wikidata                    0.00                                    25.77  \n",
       "Rijksmuseum                 0.00                                     0.00  "
      ]
     },
     "execution_count": 45,
     "metadata": {},
     "output_type": "execute_result"
    }
   ],
   "source": [
    "df_prop.set_index('Dataset', inplace=True)\n",
    "df_prop\n"
   ]
  },
  {
   "cell_type": "code",
   "execution_count": 49,
   "id": "85a04d83-304a-4523-aa89-784f578ebde3",
   "metadata": {},
   "outputs": [
    {
     "data": {
      "image/png": "[encoded data removed]",
      "text/plain": [
       "<Figure size 1500x400 with 1 Axes>"
      ]
     },
     "metadata": {},
     "output_type": "display_data"
    }
   ],
   "source": [
    "#https://pandas.pydata.org/docs/reference/api/pandas.DataFrame.plot.bar.html\n",
    "\n",
    "import matplotlib.pyplot as plt\n",
    "# Create the plot with a specified figure size\n",
    "fig, ax = plt.subplots(figsize=(15, 4))  # Adjust the width and height as needed\n",
    "ax = df_prop.plot.bar(rot=0, ax=ax)\n",
    "\n",
    "# Add labels to the bars\n",
    "for container in ax.containers:\n",
    "    ax.bar_label(container)\n",
    "\n",
    "# Show the plot\n",
    "plt.show()\n",
    "\n",
    "#ax = df_prop.plot.bar(rot=0)\n",
    "#for container in ax.containers:\n",
    "#    ax.bar_label(container)"
   ]
  },
  {
   "cell_type": "code",
   "execution_count": 47,
   "id": "2556cac2-a404-4e88-b1f1-0a6f2dcc9efc",
   "metadata": {},
   "outputs": [
    {
     "data": {
      "text/plain": [
       "<matplotlib.legend.Legend at 0x1e4347f62d0>"
      ]
     },
     "execution_count": 47,
     "metadata": {},
     "output_type": "execute_result"
    },
    {
     "data": {
      "image/png": "[encoded data removed]",
      "text/plain": [
       "<Figure size 640x480 with 6 Axes>"
      ]
     },
     "metadata": {},
     "output_type": "display_data"
    }
   ],
   "source": [
    "# it turns the dataset names into the names of the columns, so that the subplots for each dataset can be created\n",
    "df2 = df_main.set_index('Dataset').T\n",
    "df2\n",
    "\n",
    "axes = df2.plot.bar(subplots=True\n",
    ")\n",
    "axes[0].legend()  "
   ]
  },
  {
   "cell_type": "code",
   "execution_count": null,
   "id": "063cee08-3073-48ac-adaa-152b4800fc3e",
   "metadata": {},
   "outputs": [],
   "source": []
  }
 ],
 "metadata": {
  "kernelspec": {
   "display_name": "Python 3 (ipykernel)",
   "language": "python",
   "name": "python3"
  },
  "language_info": {
   "codemirror_mode": {
    "name": "ipython",
    "version": 3
   },
   "file_extension": ".py",
   "mimetype": "text/x-python",
   "name": "python",
   "nbconvert_exporter": "python",
   "pygments_lexer": "ipython3",
   "version": "3.12.1"
  }
 },
 "nbformat": 4,
 "nbformat_minor": 5
}
