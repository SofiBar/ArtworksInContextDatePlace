{
 "cells": [
  {
   "cell_type": "markdown",
   "id": "e09a13ac-0b79-4676-8cc2-f946968e306b",
   "metadata": {},
   "source": [
    "# Survey of date and place coordinates\n",
    "The code in this notebook explores the cultural properties in ArCo, the italian cultural heritage knowledge graph, for which an execution date is specified. "
   ]
  },
  {
   "cell_type": "code",
   "execution_count": 35,
   "id": "dfea6ae0-3640-4f4e-b638-6f17fc7b7b96",
   "metadata": {},
   "outputs": [],
   "source": [
    "import pandas as pd\n",
    "import altair as alt\n",
    "import numpy as np"
   ]
  },
  {
   "cell_type": "code",
   "execution_count": 1,
   "id": "20e6c988-cec3-4abf-b3c7-75c4494ecd3e",
   "metadata": {},
   "outputs": [],
   "source": [
    "import sys\n",
    "import os\n",
    "import importlib\n",
    "sys.path.append(os.path.abspath('queries'))\n",
    "\n",
    "from queries import *"
   ]
  },
  {
   "cell_type": "code",
   "execution_count": 37,
   "id": "a8a78f1d-6efc-49d7-aa33-31a17640ddc0",
   "metadata": {},
   "outputs": [
    {
     "data": {
      "text/plain": [
       "<module 'queries.europeana' from 'C:\\\\Users\\\\baroncis\\\\Documents\\\\PythonScripts\\\\git_data-exploration\\\\queries\\\\europeana.py'>"
      ]
     },
     "execution_count": 37,
     "metadata": {},
     "output_type": "execute_result"
    }
   ],
   "source": [
    "\n",
    "\n",
    "# make changes to example.py file\n",
    "\n",
    "importlib.reload(europeana)"
   ]
  },
  {
   "cell_type": "code",
   "execution_count": 38,
   "id": "2fb13789-8757-4bfe-80ac-8275e981d83c",
   "metadata": {},
   "outputs": [
    {
     "data": {
      "text/plain": [
       "['__builtins__',\n",
       " '__cached__',\n",
       " '__doc__',\n",
       " '__file__',\n",
       " '__loader__',\n",
       " '__name__',\n",
       " '__package__',\n",
       " '__spec__',\n",
       " 'eu_endpoint',\n",
       " 'q_eu_author',\n",
       " 'q_eu_author_date',\n",
       " 'q_eu_author_date_tot',\n",
       " 'q_eu_author_place',\n",
       " 'q_eu_author_place_tot',\n",
       " 'q_eu_author_tot',\n",
       " 'q_eu_author_ulan',\n",
       " 'q_eu_author_ulan_tot',\n",
       " 'q_eu_author_wikidata',\n",
       " 'q_eu_author_wikidata_tot',\n",
       " 'q_eu_date',\n",
       " 'q_eu_date_place',\n",
       " 'q_eu_date_place_tot',\n",
       " 'q_eu_date_tot',\n",
       " 'q_eu_place',\n",
       " 'q_eu_place_tot',\n",
       " 'q_eu_tot',\n",
       " 'sparql_query_setting']"
      ]
     },
     "execution_count": 38,
     "metadata": {},
     "output_type": "execute_result"
    }
   ],
   "source": [
    "dir(europeana)"
   ]
  },
  {
   "cell_type": "code",
   "execution_count": 39,
   "id": "2aba3930-04c4-487a-9da9-1c32a28004cb",
   "metadata": {},
   "outputs": [],
   "source": [
    "def pprint_prop(num1, tot, l, l_prop): \n",
    "    \"prints the number and the proportion over the total of artworks. It adds the absolute number to the dataset list\" \n",
    "    p = round((int(num1)/int(tot))*100, 2)\n",
    "    print(\"total: \", num1)\n",
    "    print(\"percentage of the total of artworks: \", p)\n",
    "    l.append(num1)\n",
    "    l_prop.append(p)\n",
    "    print(l)\n",
    "    print(l_prop)\n",
    "    return p\n",
    "#test = prop(2, 10)\n",
    "#print(test)"
   ]
  },
  {
   "cell_type": "code",
   "execution_count": 40,
   "id": "6a4cea21-4b25-4421-85a0-8f67997c56c1",
   "metadata": {},
   "outputs": [
    {
     "name": "stdout",
     "output_type": "stream",
     "text": [
      "['Dataset', 'Artworks', 'With date', 'With place', 'With date and place', 'With author', 'With author with date', 'With author with place', 'With author aligned to Wikidata', 'With author aligned to ULAN']\n",
      "['Dataset', 'With date', 'With place', 'With date and place', 'With author', 'With author with date', 'With author with place', 'With author aligned to Wikidata', 'With author aligned to ULAN']\n"
     ]
    }
   ],
   "source": [
    "headers = ['Dataset', 'Artworks', 'With date', 'With place', 'With date and place', 'With author', 'With author with date', 'With author with place', 'With author aligned to Wikidata', 'With author aligned to ULAN']\n",
    "headers_prop = headers.copy()\n",
    "headers_prop.remove('Artworks')\n",
    "print(headers)\n",
    "print(headers_prop)\n",
    "df_main = pd.DataFrame(columns=headers)\n",
    "df_prop = pd.DataFrame(columns=headers_prop)"
   ]
  },
  {
   "cell_type": "markdown",
   "id": "84742ad0-9ee7-4c6a-a5fb-3081427d6ef3",
   "metadata": {},
   "source": [
    "## ArCO\n",
    "The italian Cultural Heritage Knowledge Graph"
   ]
  },
  {
   "cell_type": "code",
   "execution_count": 41,
   "id": "48a7a242-7b40-4b72-a553-8f3a0bcb1bc7",
   "metadata": {},
   "outputs": [],
   "source": [
    "arco_list = [\"Arco\"]\n",
    "arco_prop = [\"Arco\"]"
   ]
  },
  {
   "cell_type": "markdown",
   "id": "0bf26b1b-41ce-4ffd-b667-4c302b843826",
   "metadata": {},
   "source": [
    "Total number of artworks (arco:HistoricOrArtisticProperty)"
   ]
  },
  {
   "cell_type": "code",
   "execution_count": 42,
   "id": "7c3474e3-a8ff-4a1c-a192-f89cfa50f18c",
   "metadata": {},
   "outputs": [
    {
     "name": "stdout",
     "output_type": "stream",
     "text": [
      "Total:  2184507\n",
      "['Arco', 2184507]\n"
     ]
    }
   ],
   "source": [
    "arco_art_tot = q_arco_tot()\n",
    "print(\"Total: \", arco_art_tot)\n",
    "arco_list.append(int(arco_art_tot))\n",
    "print(arco_list)"
   ]
  },
  {
   "cell_type": "markdown",
   "id": "b92d45b8-69d3-4a86-ac7f-bf8abe444a83",
   "metadata": {},
   "source": [
    "Number of artworks having a date specified"
   ]
  },
  {
   "cell_type": "code",
   "execution_count": 43,
   "id": "119ca76a-1e27-40fa-886e-b8de4ffaa2cb",
   "metadata": {},
   "outputs": [
    {
     "name": "stdout",
     "output_type": "stream",
     "text": [
      "total:  2142517\n",
      "percentage of the total of artworks:  98.08\n",
      "['Arco', 2184507, 2142517]\n",
      "['Arco', 98.08]\n"
     ]
    }
   ],
   "source": [
    "arco_date_tot = q_arco_date_tot()\n",
    "arco_prop_date = pprint_prop(arco_date_tot, arco_art_tot, arco_list, arco_prop)"
   ]
  },
  {
   "cell_type": "markdown",
   "id": "9453de67-7e69-4701-93c4-e0200e2dc421",
   "metadata": {},
   "source": [
    "Number of artworks having a place of creation specified"
   ]
  },
  {
   "cell_type": "code",
   "execution_count": 44,
   "id": "fa02d5bd-ab94-438b-afc8-53495a7bf427",
   "metadata": {},
   "outputs": [
    {
     "name": "stdout",
     "output_type": "stream",
     "text": [
      "total:  984\n",
      "percentage of the total of artworks:  0.05\n",
      "['Arco', 2184507, 2142517, 984]\n",
      "['Arco', 98.08, 0.05]\n"
     ]
    }
   ],
   "source": [
    "arco_place_tot = q_arco_place_tot()\n",
    "arco_prop_place = pprint_prop(arco_place_tot, arco_art_tot, arco_list, arco_prop)"
   ]
  },
  {
   "cell_type": "markdown",
   "id": "c4988b50-e2fa-4b1c-8b43-3723e7e220f8",
   "metadata": {},
   "source": [
    "Number of artworks haivng both a date and place of creation specified"
   ]
  },
  {
   "cell_type": "code",
   "execution_count": 45,
   "id": "a8cd5597-31a0-4676-8473-a3a7665d0827",
   "metadata": {},
   "outputs": [
    {
     "name": "stdout",
     "output_type": "stream",
     "text": [
      "total:  984\n",
      "percentage of the total of artworks:  0.05\n",
      "['Arco', 2184507, 2142517, 984, 984]\n",
      "['Arco', 98.08, 0.05, 0.05]\n"
     ]
    }
   ],
   "source": [
    "arco_date_place_tot = q_arco_date_place_tot()\n",
    "arco_prop_date_place = pprint_prop(arco_date_place_tot, arco_art_tot, arco_list, arco_prop)\n",
    "# arco_overview.append([\"With date and place\", int(arco_date_place_tot)])"
   ]
  },
  {
   "cell_type": "markdown",
   "id": "7f40acf2-c9d8-4466-9948-3dfa8299c4a5",
   "metadata": {},
   "source": [
    "### Author details"
   ]
  },
  {
   "cell_type": "markdown",
   "id": "b5a484a8-a149-4b6e-9095-935bee0a5dc3",
   "metadata": {},
   "source": [
    "Number of artworks having an author specified"
   ]
  },
  {
   "cell_type": "code",
   "execution_count": 46,
   "id": "77f03da7-bc9b-4fae-8f5e-e8e5f14ae617",
   "metadata": {},
   "outputs": [
    {
     "name": "stdout",
     "output_type": "stream",
     "text": [
      "total:  524201\n",
      "percentage of the total of artworks:  24.0\n",
      "['Arco', 2184507, 2142517, 984, 984, 524201]\n",
      "['Arco', 98.08, 0.05, 0.05, 24.0]\n"
     ]
    }
   ],
   "source": [
    "arco_author_tot = q_arco_author_tot()\n",
    "arco_prop_auth = pprint_prop(arco_author_tot, arco_art_tot, arco_list, arco_prop)\n",
    "#print(\"total: \", arco_author_tot)\n",
    "#arco_overview.append([\"With author\", int(arco_author_tot)])\n",
    "#arco_prop_auth = round((int(arco_author_tot)/int(arco_art_tot))*100, 2)\n",
    "#print(\"percentage of the total of artworks: \", arco_prop_auth)"
   ]
  },
  {
   "cell_type": "markdown",
   "id": "a284e2aa-29bc-446e-91b0-f281a11bc759",
   "metadata": {},
   "source": [
    "Number of artworks with an author with at least a date (birth or death)"
   ]
  },
  {
   "cell_type": "code",
   "execution_count": 47,
   "id": "e7f4bd96-8e1d-49c0-8d19-f8f176874e4a",
   "metadata": {},
   "outputs": [
    {
     "name": "stdout",
     "output_type": "stream",
     "text": [
      "total:  257906\n",
      "percentage of the total of artworks:  11.81\n",
      "['Arco', 2184507, 2142517, 984, 984, 524201, 257906]\n",
      "['Arco', 98.08, 0.05, 0.05, 24.0, 11.81]\n"
     ]
    }
   ],
   "source": [
    "arco_author_date = q_arco_author_date_tot()\n",
    "arco_prop_auth_date = pprint_prop(arco_author_date, arco_art_tot, arco_list, arco_prop)"
   ]
  },
  {
   "cell_type": "markdown",
   "id": "f3451a47-71b0-427f-b7ad-cedfb042757f",
   "metadata": {},
   "source": [
    "Number of artworks with an author with at least a place (birth or death)"
   ]
  },
  {
   "cell_type": "code",
   "execution_count": 48,
   "id": "79f77136-d080-4830-ae71-013a6f00004d",
   "metadata": {},
   "outputs": [
    {
     "name": "stdout",
     "output_type": "stream",
     "text": [
      "total:  259159\n",
      "percentage of the total of artworks:  11.86\n",
      "['Arco', 2184507, 2142517, 984, 984, 524201, 257906, 259159]\n",
      "['Arco', 98.08, 0.05, 0.05, 24.0, 11.81, 11.86]\n"
     ]
    }
   ],
   "source": [
    "arco_author_place = q_arco_author_place_tot()\n",
    "arco_prop_auth_place = pprint_prop(arco_author_place, arco_art_tot, arco_list, arco_prop)"
   ]
  },
  {
   "cell_type": "markdown",
   "id": "cc31c001-c660-45d9-9549-3a712f95febe",
   "metadata": {},
   "source": [
    "Number of artworks having an author aligned with Wikidata"
   ]
  },
  {
   "cell_type": "code",
   "execution_count": 49,
   "id": "87d383fc-e334-49eb-882f-b70914633a1c",
   "metadata": {},
   "outputs": [
    {
     "name": "stdout",
     "output_type": "stream",
     "text": [
      "total:  148802\n",
      "percentage of the total of artworks:  6.81\n",
      "['Arco', 2184507, 2142517, 984, 984, 524201, 257906, 259159, 148802]\n",
      "['Arco', 98.08, 0.05, 0.05, 24.0, 11.81, 11.86, 6.81]\n"
     ]
    }
   ],
   "source": [
    "arco_author_wd = q_arco_author_wikidata_tot()\n",
    "arco_prop_auth_wd = pprint_prop(arco_author_wd, arco_art_tot, arco_list, arco_prop)"
   ]
  },
  {
   "cell_type": "markdown",
   "id": "34653b49-46bd-454f-ab91-38145cb124ce",
   "metadata": {},
   "source": [
    "Number of artworks having an author alighed with ULAN"
   ]
  },
  {
   "cell_type": "code",
   "execution_count": 50,
   "id": "ddb2b44a-25b6-4244-a020-c8f728da8205",
   "metadata": {},
   "outputs": [
    {
     "name": "stdout",
     "output_type": "stream",
     "text": [
      "total:  0\n",
      "percentage of the total of artworks:  0.0\n",
      "['Arco', 2184507, 2142517, 984, 984, 524201, 257906, 259159, 148802, 0]\n",
      "['Arco', 98.08, 0.05, 0.05, 24.0, 11.81, 11.86, 6.81, 0.0]\n"
     ]
    }
   ],
   "source": [
    "arco_author_ulan = q_arco_author_ulan_tot()\n",
    "arco_prop_auth_ulan = pprint_prop(arco_author_ulan, arco_art_tot, arco_list, arco_prop)"
   ]
  },
  {
   "cell_type": "code",
   "execution_count": 51,
   "id": "b307e571-133e-4114-ae48-6cbc087086ec",
   "metadata": {},
   "outputs": [],
   "source": [
    "# add arco details to the main dataframe\n",
    "df_main.loc[len(df_main)] = arco_list\n",
    "#df_main = df_main.append(pd.Series(arco_list, index=column_headers), ignore_index=True)\n",
    "df_prop.loc[len(df_prop)] = arco_prop"
   ]
  },
  {
   "cell_type": "markdown",
   "id": "0ad71e2b-70b0-4760-b522-f6bbb8daba58",
   "metadata": {},
   "source": [
    "arco_df = pd.DataFrame(np.array(arco_overview),\n",
    "                       columns=['Name', 'Total'])\n",
    "arco_df[\"Total\"] = pd.to_numeric(arco_df[\"Total\"])"
   ]
  },
  {
   "cell_type": "code",
   "execution_count": null,
   "id": "4207ad33-b67f-4641-85f8-07daa81bc007",
   "metadata": {},
   "outputs": [],
   "source": []
  },
  {
   "cell_type": "markdown",
   "id": "36df72bb-d613-4d73-a4b2-54d959399b47",
   "metadata": {},
   "source": [
    "## Zeri"
   ]
  },
  {
   "cell_type": "code",
   "execution_count": 52,
   "id": "47231041-208e-4da8-b53c-3baa42b5308f",
   "metadata": {},
   "outputs": [],
   "source": [
    "#zeri_overview = []\n",
    "zeri_list = ['Zeri']\n",
    "zeri_prop = ['Zeri']"
   ]
  },
  {
   "cell_type": "code",
   "execution_count": 53,
   "id": "c8ff6c1a-37d8-46f5-852c-a89e1c254a8a",
   "metadata": {},
   "outputs": [
    {
     "name": "stdout",
     "output_type": "stream",
     "text": [
      "20082\n",
      "date\n",
      "total:  20010\n",
      "percentage of the total of artworks:  99.64\n",
      "['Zeri', 20082, 20010]\n",
      "['Zeri', 99.64]\n",
      "place\n",
      "total:  0\n",
      "percentage of the total of artworks:  0.0\n",
      "['Zeri', 20082, 20010, 0]\n",
      "['Zeri', 99.64, 0.0]\n",
      "date and place\n",
      "total:  0\n",
      "percentage of the total of artworks:  0.0\n",
      "['Zeri', 20082, 20010, 0, 0]\n",
      "['Zeri', 99.64, 0.0, 0.0]\n"
     ]
    }
   ],
   "source": [
    "zeri_art_tot = q_zeri_tot()\n",
    "print(zeri_art_tot)\n",
    "zeri_list.append(zeri_art_tot)\n",
    "#zeri_overview.append([\"Artworks\", int(zeri_art_tot)])\n",
    "\n",
    "# date\n",
    "print(\"date\")\n",
    "zeri_date = q_zeri_date_tot()\n",
    "zeri_date_prop = pprint_prop(zeri_date, zeri_art_tot, zeri_list, zeri_prop)\n",
    "\n",
    "#place \n",
    "print(\"place\")\n",
    "zeri_place = q_zeri_place_tot()\n",
    "zeri_date_prop = pprint_prop(zeri_place, zeri_art_tot, zeri_list, zeri_prop)\n",
    "\n",
    "# date and place\n",
    "print(\"date and place\")\n",
    "zeri_date_place = q_zeri_date_place_tot()\n",
    "zeri_date_place_prop = pprint_prop(zeri_date_place, zeri_art_tot, zeri_list, zeri_prop)"
   ]
  },
  {
   "cell_type": "markdown",
   "id": "1b470f68-ea2e-4e84-abc8-7ef988a677b4",
   "metadata": {},
   "source": [
    "zeri_date = q_zeri_date_tot()\n",
    "zeri_date_prop = pprint_prop(zeri_date, zeri_art_tot, zeri_list, zeri_prop)\n",
    "#print(zeri_date)\n",
    "#zeri_overview.append([\"with a date\", int(zeri_date)])"
   ]
  },
  {
   "cell_type": "code",
   "execution_count": 54,
   "id": "8d84a853-a2bf-4d65-80ba-0bcfa913db8c",
   "metadata": {},
   "outputs": [],
   "source": [
    "#zeri_place = q_zeri_place_tot()\n",
    "#print(zeri_place)\n",
    "#zeri_overview.append([\"with a place\", int(zeri_place)])"
   ]
  },
  {
   "cell_type": "markdown",
   "id": "abd83716-31b3-40b6-a47e-8b7b2cf4b5ee",
   "metadata": {},
   "source": [
    "### Author details"
   ]
  },
  {
   "cell_type": "code",
   "execution_count": 55,
   "id": "c86c4c22-f548-4d95-815c-72a3a7915430",
   "metadata": {},
   "outputs": [
    {
     "name": "stdout",
     "output_type": "stream",
     "text": [
      "with author\n",
      "total:  19061\n",
      "percentage of the total of artworks:  94.92\n",
      "['Zeri', 20082, 20010, 0, 0, 19061]\n",
      "['Zeri', 99.64, 0.0, 0.0, 94.92]\n",
      "authors with date\n",
      "total:  0\n",
      "percentage of the total of artworks:  0.0\n",
      "['Zeri', 20082, 20010, 0, 0, 19061, 0]\n",
      "['Zeri', 99.64, 0.0, 0.0, 94.92, 0.0]\n",
      "authors with place\n",
      "total:  0\n",
      "percentage of the total of artworks:  0.0\n",
      "['Zeri', 20082, 20010, 0, 0, 19061, 0, 0]\n",
      "['Zeri', 99.64, 0.0, 0.0, 94.92, 0.0, 0.0]\n"
     ]
    }
   ],
   "source": [
    "## authors\n",
    "print(\"with author\")\n",
    "zeri_auth = q_zeri_author_tot()\n",
    "zeri_auth_prop = pprint_prop(zeri_auth, zeri_art_tot, zeri_list, zeri_prop)\n",
    "\n",
    "## authors with date\n",
    "print(\"authors with date\")\n",
    "zeri_auth_date = q_zeri_author_date_tot()\n",
    "zeri_auth_date_prop = pprint_prop(zeri_auth_date, zeri_art_tot, zeri_list, zeri_prop)\n",
    "\n",
    "## authors with place\n",
    "print(\"authors with place\")\n",
    "zeri_auth_place = q_zeri_author_place_tot()\n",
    "zeri_auth_place_prop = pprint_prop(zeri_auth_place, zeri_art_tot, zeri_list, zeri_prop)"
   ]
  },
  {
   "cell_type": "markdown",
   "id": "520feb30-36f7-4fef-af7e-fc2d82b2956d",
   "metadata": {},
   "source": [
    "### Authors aligned"
   ]
  },
  {
   "cell_type": "code",
   "execution_count": 56,
   "id": "5054aed7-e0a2-4a30-b141-8d1969d34087",
   "metadata": {},
   "outputs": [],
   "source": [
    "zeri_author_ulan = q_zeri_author_ulan_tot()"
   ]
  },
  {
   "cell_type": "code",
   "execution_count": 57,
   "id": "00508909-9ce4-441a-a716-464ce4bb00a5",
   "metadata": {},
   "outputs": [
    {
     "name": "stdout",
     "output_type": "stream",
     "text": [
      "total:  0\n",
      "percentage of the total of artworks:  0.0\n",
      "['Zeri', 20082, 20010, 0, 0, 19061, 0, 0, 0]\n",
      "['Zeri', 99.64, 0.0, 0.0, 94.92, 0.0, 0.0, 0.0]\n",
      "total:  0\n",
      "percentage of the total of artworks:  0.0\n",
      "['Zeri', 20082, 20010, 0, 0, 19061, 0, 0, 0, 0]\n",
      "['Zeri', 99.64, 0.0, 0.0, 94.92, 0.0, 0.0, 0.0, 0.0]\n"
     ]
    }
   ],
   "source": [
    "# wd\n",
    "zeri_author_wd = q_zeri_author_wikidata_tot()\n",
    "zeri_prop_auth_wd = pprint_prop(zeri_author_wd, zeri_art_tot, zeri_list, zeri_prop)\n",
    "\n",
    "#ulan\n",
    "zeri_author_ulan = q_zeri_author_ulan_tot()\n",
    "zeri_prop_auth_ulan = pprint_prop(zeri_author_ulan, zeri_art_tot, zeri_list, zeri_prop)"
   ]
  },
  {
   "cell_type": "markdown",
   "id": "228d189d-f934-4afb-9e1b-35fb1763c5ce",
   "metadata": {},
   "source": [
    "### Add results to the main dataframe"
   ]
  },
  {
   "cell_type": "code",
   "execution_count": 58,
   "id": "721417cc-7707-4eb4-836c-d61719c3404b",
   "metadata": {},
   "outputs": [],
   "source": [
    "# add zeri details to the main dataframe\n",
    "df_main.loc[len(df_main)] = zeri_list\n",
    "#df_main = df_main.append(pd.Series(zeri_list, index=column_headers), ignore_index=True)\n",
    "df_prop.loc[len(df_prop)] = zeri_prop"
   ]
  },
  {
   "cell_type": "code",
   "execution_count": null,
   "id": "d52a3a06-9e59-47b4-9035-d2569e82f089",
   "metadata": {},
   "outputs": [],
   "source": []
  },
  {
   "cell_type": "markdown",
   "id": "ec3a3202-391c-4bed-9f78-07de944dbe01",
   "metadata": {},
   "source": [
    "## Europeana"
   ]
  },
  {
   "cell_type": "code",
   "execution_count": 59,
   "id": "a462edc6-84f8-45af-8067-0f14dfde2e3b",
   "metadata": {},
   "outputs": [
    {
     "name": "stdout",
     "output_type": "stream",
     "text": [
      "369853\n"
     ]
    }
   ],
   "source": [
    "eu_list = ['Europeana']\n",
    "eu_prop = ['Europeana']\n",
    "\n",
    "eu_art_tot = q_eu_tot()\n",
    "print(eu_art_tot)\n",
    "eu_list.append(eu_art_tot)"
   ]
  },
  {
   "cell_type": "code",
   "execution_count": 60,
   "id": "8aa50e6e-0797-4cc8-babc-9f081f2b4a11",
   "metadata": {},
   "outputs": [
    {
     "name": "stdout",
     "output_type": "stream",
     "text": [
      "date\n",
      "total:  306445\n",
      "percentage of the total of artworks:  82.86\n",
      "['Europeana', 369853, 306445]\n",
      "['Europeana', 82.86]\n",
      "place\n",
      "total:  175784\n",
      "percentage of the total of artworks:  47.53\n",
      "['Europeana', 369853, 306445, 175784]\n",
      "['Europeana', 82.86, 47.53]\n",
      "date and place\n",
      "total:  152908\n",
      "percentage of the total of artworks:  41.34\n",
      "['Europeana', 369853, 306445, 175784, 152908]\n",
      "['Europeana', 82.86, 47.53, 41.34]\n"
     ]
    }
   ],
   "source": [
    "\n",
    "# date\n",
    "print(\"date\")\n",
    "eu_date = q_eu_date_tot()\n",
    "eu_date_prop = pprint_prop(eu_date, eu_art_tot, eu_list, eu_prop)\n",
    "\n",
    "#place \n",
    "print(\"place\")\n",
    "eu_place = q_eu_place_tot()\n",
    "eu_date_prop = pprint_prop(eu_place, eu_art_tot, eu_list, eu_prop)\n",
    "\n",
    "# date and place\n",
    "print(\"date and place\")\n",
    "eu_date_place = q_eu_date_place_tot()\n",
    "eu_date_place_prop = pprint_prop(eu_date_place, eu_art_tot, eu_list, eu_prop)"
   ]
  },
  {
   "cell_type": "markdown",
   "id": "13062b8b-c3b0-4221-9e2c-403cd6a5d93f",
   "metadata": {},
   "source": [
    "### Author details"
   ]
  },
  {
   "cell_type": "code",
   "execution_count": 61,
   "id": "59e5d690-d264-4cf0-97fd-44dd3272e140",
   "metadata": {},
   "outputs": [
    {
     "name": "stdout",
     "output_type": "stream",
     "text": [
      "with author\n",
      "total:  112330\n",
      "percentage of the total of artworks:  30.37\n",
      "['Europeana', 369853, 306445, 175784, 152908, 112330]\n",
      "['Europeana', 82.86, 47.53, 41.34, 30.37]\n",
      "authors with date\n",
      "total:  68532\n",
      "percentage of the total of artworks:  18.53\n",
      "['Europeana', 369853, 306445, 175784, 152908, 112330, 68532]\n",
      "['Europeana', 82.86, 47.53, 41.34, 30.37, 18.53]\n",
      "authors with place\n",
      "total:  2\n",
      "percentage of the total of artworks:  0.0\n",
      "['Europeana', 369853, 306445, 175784, 152908, 112330, 68532, 2]\n",
      "['Europeana', 82.86, 47.53, 41.34, 30.37, 18.53, 0.0]\n"
     ]
    }
   ],
   "source": [
    "## authors\n",
    "print(\"with author\")\n",
    "eu_auth = q_eu_author_tot()\n",
    "eu_auth_prop = pprint_prop(eu_auth, eu_art_tot, eu_list, eu_prop)\n",
    "\n",
    "## authors with date\n",
    "print(\"authors with date\")\n",
    "eu_auth_date = q_eu_author_date_tot()\n",
    "eu_auth_date_prop = pprint_prop(eu_auth_date, eu_art_tot, eu_list, eu_prop)\n",
    "\n",
    "## authors with place\n",
    "print(\"authors with place\")\n",
    "eu_auth_place = q_eu_author_place_tot()\n",
    "eu_auth_place_prop = pprint_prop(eu_auth_place, eu_art_tot, eu_list, eu_prop)"
   ]
  },
  {
   "cell_type": "markdown",
   "id": "64a079d0-3a45-4a91-b30e-15ca9d3b75a6",
   "metadata": {},
   "source": [
    "### Author aligned"
   ]
  },
  {
   "cell_type": "code",
   "execution_count": 62,
   "id": "123eefe0-54e9-4da1-a2b7-8334250d1b2c",
   "metadata": {},
   "outputs": [
    {
     "name": "stdout",
     "output_type": "stream",
     "text": [
      "artworks with authors aligned to wikidata\n",
      "total:  127\n",
      "percentage of the total of artworks:  0.03\n",
      "['Europeana', 369853, 306445, 175784, 152908, 112330, 68532, 2, 127]\n",
      "['Europeana', 82.86, 47.53, 41.34, 30.37, 18.53, 0.0, 0.03]\n",
      "artworks with authors aligned to ulan\n",
      "total:  118\n",
      "percentage of the total of artworks:  0.03\n",
      "['Europeana', 369853, 306445, 175784, 152908, 112330, 68532, 2, 127, 118]\n",
      "['Europeana', 82.86, 47.53, 41.34, 30.37, 18.53, 0.0, 0.03, 0.03]\n"
     ]
    }
   ],
   "source": [
    "importlib.reload(europeana)\n",
    "# wd\n",
    "print(\"artworks with authors aligned to wikidata\")\n",
    "eu_author_wd = q_eu_author_wikidata_tot()\n",
    "eu_prop_auth_wd = pprint_prop(eu_author_wd, eu_art_tot, eu_list, eu_prop)\n",
    "\n",
    "#ulan\n",
    "print(\"artworks with authors aligned to ulan\")\n",
    "eu_author_ulan = q_eu_author_ulan_tot()\n",
    "eu_prop_auth_ulan = pprint_prop(eu_author_ulan, eu_art_tot, eu_list, eu_prop)"
   ]
  },
  {
   "cell_type": "code",
   "execution_count": 63,
   "id": "6548db9f-4629-43e4-a609-5a15834076f0",
   "metadata": {},
   "outputs": [],
   "source": [
    "# add  details to the main dataframe\n",
    "df_main.loc[len(df_main)] = eu_list\n",
    "#df_main = df_main.append(pd.Series(_list, index=column_headers), ignore_index=True)\n",
    "df_prop.loc[len(df_prop)] = eu_prop"
   ]
  },
  {
   "cell_type": "code",
   "execution_count": null,
   "id": "769eb3cf-baed-4e5b-9102-7f4f2d97284d",
   "metadata": {},
   "outputs": [],
   "source": []
  },
  {
   "cell_type": "markdown",
   "id": "9794b7fb-c69e-4543-bd13-b0e4f092e069",
   "metadata": {},
   "source": [
    "## DBpedia"
   ]
  },
  {
   "cell_type": "code",
   "execution_count": 64,
   "id": "62453db1-a7db-4b47-ac7e-91e5b3b84cf4",
   "metadata": {},
   "outputs": [
    {
     "name": "stdout",
     "output_type": "stream",
     "text": [
      "12446\n"
     ]
    }
   ],
   "source": [
    "db_list = ['DBpedia']\n",
    "db_prop = ['DBpedia']\n",
    "\n",
    "db_art_tot = q_db_tot()\n",
    "print(db_art_tot)\n",
    "db_list.append(db_art_tot)"
   ]
  },
  {
   "cell_type": "code",
   "execution_count": 65,
   "id": "deb618f1-06a9-4173-a1cc-6e96c645a00e",
   "metadata": {},
   "outputs": [
    {
     "name": "stdout",
     "output_type": "stream",
     "text": [
      "date\n",
      "total:  248\n",
      "percentage of the total of artworks:  1.99\n",
      "['DBpedia', 12446, 248]\n",
      "['DBpedia', 1.99]\n",
      "place\n",
      "total:  0\n",
      "percentage of the total of artworks:  0.0\n",
      "['DBpedia', 12446, 248, 0]\n",
      "['DBpedia', 1.99, 0.0]\n",
      "date and place\n",
      "total:  0\n",
      "percentage of the total of artworks:  0.0\n",
      "['DBpedia', 12446, 248, 0, 0]\n",
      "['DBpedia', 1.99, 0.0, 0.0]\n"
     ]
    }
   ],
   "source": [
    "\n",
    "# date\n",
    "print(\"date\")\n",
    "db_date = q_db_date_tot()\n",
    "db_date_prop = pprint_prop(db_date, db_art_tot, db_list, db_prop)\n",
    "\n",
    "#place \n",
    "print(\"place\")\n",
    "db_place = q_db_place_tot()\n",
    "db_date_prop = pprint_prop(db_place, db_art_tot, db_list, db_prop)\n",
    "\n",
    "# date and place\n",
    "print(\"date and place\")\n",
    "db_date_place = q_db_date_place_tot()\n",
    "db_date_place_prop = pprint_prop(db_date_place, db_art_tot, db_list, db_prop)"
   ]
  },
  {
   "cell_type": "markdown",
   "id": "9ab37d21-4724-4ad2-9da9-c331b04d8276",
   "metadata": {},
   "source": [
    "### Author details"
   ]
  },
  {
   "cell_type": "code",
   "execution_count": 66,
   "id": "ce248bd2-2484-4188-accc-2a5763f70025",
   "metadata": {},
   "outputs": [
    {
     "name": "stdout",
     "output_type": "stream",
     "text": [
      "with author\n",
      "total:  9119\n",
      "percentage of the total of artworks:  73.27\n",
      "['DBpedia', 12446, 248, 0, 0, 9119]\n",
      "['DBpedia', 1.99, 0.0, 0.0, 73.27]\n",
      "authors with date\n",
      "total:  0\n",
      "percentage of the total of artworks:  0.0\n",
      "['DBpedia', 12446, 248, 0, 0, 9119, 0]\n",
      "['DBpedia', 1.99, 0.0, 0.0, 73.27, 0.0]\n",
      "authors with place\n",
      "total:  882\n",
      "percentage of the total of artworks:  7.09\n",
      "['DBpedia', 12446, 248, 0, 0, 9119, 0, 882]\n",
      "['DBpedia', 1.99, 0.0, 0.0, 73.27, 0.0, 7.09]\n"
     ]
    }
   ],
   "source": [
    "## authors\n",
    "print(\"with author\")\n",
    "db_auth = q_db_author_tot()\n",
    "db_auth_prop = pprint_prop(db_auth, db_art_tot, db_list, db_prop)\n",
    "\n",
    "## authors with date\n",
    "print(\"authors with date\")\n",
    "db_auth_date = q_db_author_date_tot()\n",
    "db_auth_date_prop = pprint_prop(db_auth_date, db_art_tot, db_list, db_prop)\n",
    "\n",
    "## authors with place\n",
    "print(\"authors with place\")\n",
    "db_auth_place = q_db_author_place_tot()\n",
    "db_auth_place_prop = pprint_prop(db_auth_place, db_art_tot, db_list, db_prop)"
   ]
  },
  {
   "cell_type": "markdown",
   "id": "8f19f56d-b174-44e5-b661-57255ad371aa",
   "metadata": {},
   "source": [
    "### Author aligned"
   ]
  },
  {
   "cell_type": "code",
   "execution_count": 67,
   "id": "a341d5e9-1903-4daa-befe-675574dd3723",
   "metadata": {},
   "outputs": [
    {
     "name": "stdout",
     "output_type": "stream",
     "text": [
      "artworks with authors aligned to wikidata\n",
      "total:  7400\n",
      "percentage of the total of artworks:  59.46\n",
      "['DBpedia', 12446, 248, 0, 0, 9119, 0, 882, 7400]\n",
      "['DBpedia', 1.99, 0.0, 0.0, 73.27, 0.0, 7.09, 59.46]\n",
      "artworks with authors aligned to ulan\n",
      "total:  16\n",
      "percentage of the total of artworks:  0.13\n",
      "['DBpedia', 12446, 248, 0, 0, 9119, 0, 882, 7400, 16]\n",
      "['DBpedia', 1.99, 0.0, 0.0, 73.27, 0.0, 7.09, 59.46, 0.13]\n"
     ]
    }
   ],
   "source": [
    "\n",
    "# wd\n",
    "print(\"artworks with authors aligned to wikidata\")\n",
    "db_author_wd = q_db_author_wikidata_tot()\n",
    "db_prop_auth_wd = pprint_prop(db_author_wd, db_art_tot, db_list, db_prop)\n",
    "\n",
    "#ulan\n",
    "print(\"artworks with authors aligned to ulan\")\n",
    "db_author_ulan = q_db_author_ulan_tot()\n",
    "db_prop_auth_ulan = pprint_prop(db_author_ulan, db_art_tot, db_list, db_prop)"
   ]
  },
  {
   "cell_type": "code",
   "execution_count": 68,
   "id": "4deb82e8-bd1a-4f19-9a1b-7c0dee8b52ce",
   "metadata": {},
   "outputs": [],
   "source": [
    "# add  details to the main dataframe\n",
    "df_main.loc[len(df_main)] = db_list\n",
    "#df_main = df_main.append(pd.Series(_list, index=column_headers), ignore_index=True)\n",
    "df_prop.loc[len(df_prop)] = db_prop"
   ]
  },
  {
   "cell_type": "code",
   "execution_count": null,
   "id": "223f63bc-6b54-4dc7-a1b1-7b39ee2a1911",
   "metadata": {},
   "outputs": [],
   "source": []
  },
  {
   "cell_type": "markdown",
   "id": "db7613bd-7253-427a-bdcf-d38fcd1c47cd",
   "metadata": {},
   "source": [
    "## Wikidata"
   ]
  },
  {
   "cell_type": "code",
   "execution_count": 69,
   "id": "bf05dcb7-72ed-41be-843c-c2bd5714167c",
   "metadata": {},
   "outputs": [
    {
     "name": "stdout",
     "output_type": "stream",
     "text": [
      "3210159\n"
     ]
    }
   ],
   "source": [
    "wd_list = ['Wikidata']\n",
    "wd_prop = ['Wikidata']\n",
    "\n",
    "wd_art_tot = q_wd_tot()\n",
    "print(wd_art_tot)\n",
    "wd_list.append(wd_art_tot)"
   ]
  },
  {
   "cell_type": "code",
   "execution_count": 71,
   "id": "20ed7b00-2786-4eab-89f2-f602d2dda7f1",
   "metadata": {},
   "outputs": [
    {
     "name": "stdout",
     "output_type": "stream",
     "text": [
      "date\n",
      "total:  1081449\n",
      "percentage of the total of artworks:  33.69\n",
      "['Wikidata', 3210159, 1081449]\n",
      "['Wikidata', 33.69]\n",
      "place\n",
      "total:  58247\n",
      "percentage of the total of artworks:  1.81\n",
      "['Wikidata', 3210159, 1081449, 58247]\n",
      "['Wikidata', 33.69, 1.81]\n",
      "date and place\n",
      "total:  47186\n",
      "percentage of the total of artworks:  1.47\n",
      "['Wikidata', 3210159, 1081449, 58247, 47186]\n",
      "['Wikidata', 33.69, 1.81, 1.47]\n"
     ]
    }
   ],
   "source": [
    "\n",
    "# date\n",
    "print(\"date\")\n",
    "wd_date = q_wd_date_tot()\n",
    "wd_date_prop = pprint_prop(wd_date, wd_art_tot, wd_list, wd_prop)\n",
    "\n",
    "#place \n",
    "print(\"place\")\n",
    "wd_place = q_wd_place_tot()\n",
    "wd_date_prop = pprint_prop(wd_place, wd_art_tot, wd_list, wd_prop)\n",
    "\n",
    "# date and place\n",
    "print(\"date and place\")\n",
    "wd_date_place = q_wd_date_place_tot()\n",
    "wd_date_place_prop = pprint_prop(wd_date_place, wd_art_tot, wd_list, wd_prop)"
   ]
  },
  {
   "cell_type": "markdown",
   "id": "8126c7c3-fc50-41cf-946b-4aa28884ad97",
   "metadata": {},
   "source": [
    "### Author details"
   ]
  },
  {
   "cell_type": "code",
   "execution_count": 72,
   "id": "782b9317-fddb-48fa-8045-da38a9dd9b1c",
   "metadata": {},
   "outputs": [
    {
     "name": "stdout",
     "output_type": "stream",
     "text": [
      "with author\n",
      "total:  1221048\n",
      "percentage of the total of artworks:  38.04\n",
      "['Wikidata', 3210159, 1081449, 58247, 47186, 1221048]\n",
      "['Wikidata', 33.69, 1.81, 1.47, 38.04]\n",
      "authors with date\n",
      "total:  1051582\n",
      "percentage of the total of artworks:  32.76\n",
      "['Wikidata', 3210159, 1081449, 58247, 47186, 1221048, 1051582]\n",
      "['Wikidata', 33.69, 1.81, 1.47, 38.04, 32.76]\n",
      "authors with place\n",
      "total:  942830\n",
      "percentage of the total of artworks:  29.37\n",
      "['Wikidata', 3210159, 1081449, 58247, 47186, 1221048, 1051582, 942830]\n",
      "['Wikidata', 33.69, 1.81, 1.47, 38.04, 32.76, 29.37]\n"
     ]
    }
   ],
   "source": [
    "## authors\n",
    "print(\"with author\")\n",
    "wd_auth = q_wd_author_tot()\n",
    "wd_auth_prop = pprint_prop(wd_auth, wd_art_tot, wd_list, wd_prop)\n",
    "\n",
    "## authors with date\n",
    "print(\"authors with date\")\n",
    "wd_auth_date = q_wd_author_date_tot()\n",
    "wd_auth_date_prop = pprint_prop(wd_auth_date, wd_art_tot, wd_list, wd_prop)\n",
    "\n",
    "## authors with place\n",
    "print(\"authors with place\")\n",
    "wd_auth_place = q_wd_author_place_tot()\n",
    "wd_auth_place_prop = pprint_prop(wd_auth_place, wd_art_tot, wd_list, wd_prop)"
   ]
  },
  {
   "cell_type": "markdown",
   "id": "7009c038-5ca2-4a8e-ad13-106713df7c82",
   "metadata": {},
   "source": [
    "### Author aligned"
   ]
  },
  {
   "cell_type": "code",
   "execution_count": 73,
   "id": "64482750-52f1-4658-97d3-cd1bbd5211af",
   "metadata": {},
   "outputs": [
    {
     "name": "stdout",
     "output_type": "stream",
     "text": [
      "artworks with authors aligned to wikidata\n",
      "total:  0\n",
      "percentage of the total of artworks:  0.0\n",
      "['Wikidata', 3210159, 1081449, 58247, 47186, 1221048, 1051582, 942830, 0]\n",
      "['Wikidata', 33.69, 1.81, 1.47, 38.04, 32.76, 29.37, 0.0]\n",
      "artworks with authors aligned to ulan\n",
      "total:  826320\n",
      "percentage of the total of artworks:  25.74\n",
      "['Wikidata', 3210159, 1081449, 58247, 47186, 1221048, 1051582, 942830, 0, 826320]\n",
      "['Wikidata', 33.69, 1.81, 1.47, 38.04, 32.76, 29.37, 0.0, 25.74]\n"
     ]
    }
   ],
   "source": [
    "\n",
    "# wd\n",
    "print(\"artworks with authors aligned to wikidata\")\n",
    "wd_author_wd = q_wd_author_wikidata_tot()\n",
    "wd_prop_auth_wd = pprint_prop(wd_author_wd, wd_art_tot, wd_list, wd_prop)\n",
    "\n",
    "#ulan\n",
    "print(\"artworks with authors aligned to ulan\")\n",
    "wd_author_ulan = q_wd_author_ulan_tot()\n",
    "wd_prop_auth_ulan = pprint_prop(wd_author_ulan, wd_art_tot, wd_list, wd_prop)"
   ]
  },
  {
   "cell_type": "code",
   "execution_count": 74,
   "id": "e4b42c04-2dec-497b-aaec-64961249f814",
   "metadata": {},
   "outputs": [],
   "source": [
    "# add  details to the main dataframe\n",
    "df_main.loc[len(df_main)] = wd_list\n",
    "#df_main = df_main.append(pd.Series(_list, index=column_headers), ignore_index=True)\n",
    "df_prop.loc[len(df_prop)] = wd_prop"
   ]
  },
  {
   "cell_type": "markdown",
   "id": "4518063f-454f-4f66-9ed2-b23cc0153a0e",
   "metadata": {},
   "source": [
    "## Save results"
   ]
  },
  {
   "cell_type": "code",
   "execution_count": 75,
   "id": "01159e75-28fe-4209-9263-04397c521131",
   "metadata": {},
   "outputs": [],
   "source": [
    "# save results\n",
    "df_main.to_csv('results_main.csv', index=False)\n",
    "df_prop.to_csv('results_prop.csv', index=False)"
   ]
  },
  {
   "cell_type": "code",
   "execution_count": null,
   "id": "93c8eb2e-b0f1-4745-9dfd-1616e2cfc5e1",
   "metadata": {},
   "outputs": [],
   "source": []
  },
  {
   "cell_type": "markdown",
   "id": "ebbe7287-10da-467c-9210-eb70cf53b445",
   "metadata": {},
   "source": [
    "## Final visualization"
   ]
  },
  {
   "cell_type": "code",
   "execution_count": null,
   "id": "9d5b194d-22f8-40ee-97b6-e74481fdaf27",
   "metadata": {},
   "outputs": [],
   "source": []
  },
  {
   "cell_type": "code",
   "execution_count": 76,
   "id": "ecfe3fd4-1a69-4f3a-9d86-8e9900786170",
   "metadata": {},
   "outputs": [
    {
     "data": {
      "text/html": [
       "<div>\n",
       "<style scoped>\n",
       "    .dataframe tbody tr th:only-of-type {\n",
       "        vertical-align: middle;\n",
       "    }\n",
       "\n",
       "    .dataframe tbody tr th {\n",
       "        vertical-align: top;\n",
       "    }\n",
       "\n",
       "    .dataframe thead th {\n",
       "        text-align: right;\n",
       "    }\n",
       "</style>\n",
       "<table border=\"1\" class=\"dataframe\">\n",
       "  <thead>\n",
       "    <tr style=\"text-align: right;\">\n",
       "      <th></th>\n",
       "      <th>With date</th>\n",
       "      <th>With place</th>\n",
       "      <th>With date and place</th>\n",
       "      <th>With author</th>\n",
       "      <th>With author with date</th>\n",
       "      <th>With author with place</th>\n",
       "      <th>With author aligned to Wikidata</th>\n",
       "      <th>With author aligned to ULAN</th>\n",
       "    </tr>\n",
       "    <tr>\n",
       "      <th>Dataset</th>\n",
       "      <th></th>\n",
       "      <th></th>\n",
       "      <th></th>\n",
       "      <th></th>\n",
       "      <th></th>\n",
       "      <th></th>\n",
       "      <th></th>\n",
       "      <th></th>\n",
       "    </tr>\n",
       "  </thead>\n",
       "  <tbody>\n",
       "    <tr>\n",
       "      <th>Arco</th>\n",
       "      <td>98.08</td>\n",
       "      <td>0.05</td>\n",
       "      <td>0.05</td>\n",
       "      <td>24.00</td>\n",
       "      <td>11.81</td>\n",
       "      <td>11.86</td>\n",
       "      <td>6.81</td>\n",
       "      <td>0.00</td>\n",
       "    </tr>\n",
       "    <tr>\n",
       "      <th>Zeri</th>\n",
       "      <td>99.64</td>\n",
       "      <td>0.00</td>\n",
       "      <td>0.00</td>\n",
       "      <td>94.92</td>\n",
       "      <td>0.00</td>\n",
       "      <td>0.00</td>\n",
       "      <td>0.00</td>\n",
       "      <td>0.00</td>\n",
       "    </tr>\n",
       "    <tr>\n",
       "      <th>Europeana</th>\n",
       "      <td>82.86</td>\n",
       "      <td>47.53</td>\n",
       "      <td>41.34</td>\n",
       "      <td>30.37</td>\n",
       "      <td>18.53</td>\n",
       "      <td>0.00</td>\n",
       "      <td>0.03</td>\n",
       "      <td>0.03</td>\n",
       "    </tr>\n",
       "    <tr>\n",
       "      <th>DBpedia</th>\n",
       "      <td>1.99</td>\n",
       "      <td>0.00</td>\n",
       "      <td>0.00</td>\n",
       "      <td>73.27</td>\n",
       "      <td>0.00</td>\n",
       "      <td>7.09</td>\n",
       "      <td>59.46</td>\n",
       "      <td>0.13</td>\n",
       "    </tr>\n",
       "    <tr>\n",
       "      <th>Wikidata</th>\n",
       "      <td>33.69</td>\n",
       "      <td>1.81</td>\n",
       "      <td>1.47</td>\n",
       "      <td>38.04</td>\n",
       "      <td>32.76</td>\n",
       "      <td>29.37</td>\n",
       "      <td>0.00</td>\n",
       "      <td>25.74</td>\n",
       "    </tr>\n",
       "  </tbody>\n",
       "</table>\n",
       "</div>"
      ],
      "text/plain": [
       "           With date  With place  With date and place  With author  \\\n",
       "Dataset                                                              \n",
       "Arco           98.08        0.05                 0.05        24.00   \n",
       "Zeri           99.64        0.00                 0.00        94.92   \n",
       "Europeana      82.86       47.53                41.34        30.37   \n",
       "DBpedia         1.99        0.00                 0.00        73.27   \n",
       "Wikidata       33.69        1.81                 1.47        38.04   \n",
       "\n",
       "           With author with date  With author with place  \\\n",
       "Dataset                                                    \n",
       "Arco                       11.81                   11.86   \n",
       "Zeri                        0.00                    0.00   \n",
       "Europeana                  18.53                    0.00   \n",
       "DBpedia                     0.00                    7.09   \n",
       "Wikidata                   32.76                   29.37   \n",
       "\n",
       "           With author aligned to Wikidata  With author aligned to ULAN  \n",
       "Dataset                                                                  \n",
       "Arco                                  6.81                         0.00  \n",
       "Zeri                                  0.00                         0.00  \n",
       "Europeana                             0.03                         0.03  \n",
       "DBpedia                              59.46                         0.13  \n",
       "Wikidata                              0.00                        25.74  "
      ]
     },
     "execution_count": 76,
     "metadata": {},
     "output_type": "execute_result"
    }
   ],
   "source": [
    "df_prop.set_index('Dataset', inplace=True)\n",
    "df_prop\n"
   ]
  },
  {
   "cell_type": "code",
   "execution_count": 77,
   "id": "85a04d83-304a-4523-aa89-784f578ebde3",
   "metadata": {},
   "outputs": [
    {
     "data": {
      "image/png": "[encoded data removed]",
      "text/plain": [
       "<Figure size 640x480 with 1 Axes>"
      ]
     },
     "metadata": {},
     "output_type": "display_data"
    }
   ],
   "source": [
    "#https://pandas.pydata.org/docs/reference/api/pandas.DataFrame.plot.bar.html\n",
    "\n",
    "ax = df_prop.plot.bar(rot=0)\n",
    "for container in ax.containers:\n",
    "    ax.bar_label(container)"
   ]
  },
  {
   "cell_type": "code",
   "execution_count": 78,
   "id": "2556cac2-a404-4e88-b1f1-0a6f2dcc9efc",
   "metadata": {},
   "outputs": [
    {
     "data": {
      "text/plain": [
       "<matplotlib.legend.Legend at 0x1d6339ac110>"
      ]
     },
     "execution_count": 78,
     "metadata": {},
     "output_type": "execute_result"
    },
    {
     "data": {
      "image/png": "[encoded data removed]",
      "text/plain": [
       "<Figure size 640x480 with 5 Axes>"
      ]
     },
     "metadata": {},
     "output_type": "display_data"
    }
   ],
   "source": [
    "# it turns the dataset names into the names of the columns, so that the subplots for each dataset can be created\n",
    "df2 = df_main.set_index('Dataset').T\n",
    "df2\n",
    "\n",
    "axes = df2.plot.bar(subplots=True\n",
    ")\n",
    "axes[0].legend()  "
   ]
  },
  {
   "cell_type": "code",
   "execution_count": null,
   "id": "063cee08-3073-48ac-adaa-152b4800fc3e",
   "metadata": {},
   "outputs": [],
   "source": []
  }
 ],
 "metadata": {
  "kernelspec": {
   "display_name": "Python 3 (ipykernel)",
   "language": "python",
   "name": "python3"
  },
  "language_info": {
   "codemirror_mode": {
    "name": "ipython",
    "version": 3
   },
   "file_extension": ".py",
   "mimetype": "text/x-python",
   "name": "python",
   "nbconvert_exporter": "python",
   "pygments_lexer": "ipython3",
   "version": "3.12.1"
  }
 },
 "nbformat": 4,
 "nbformat_minor": 5
}
