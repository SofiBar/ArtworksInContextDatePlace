{
 "cells": [
  {
   "cell_type": "code",
   "execution_count": 16,
   "metadata": {},
   "outputs": [],
   "source": [
    "import pandas as pd\n",
    "#from queries.functions import sparql_query_setting, query_wrapper_tot\n",
    "from SPARQLWrapper import SPARQLWrapper, JSON\n",
    "import json\n",
    "import csv"
   ]
  },
  {
   "cell_type": "code",
   "execution_count": 2,
   "metadata": {},
   "outputs": [],
   "source": [
    "import sys\n",
    "import os\n",
    "import importlib\n",
    "sys.path.append(os.path.abspath('queries'))\n",
    "\n",
    "from queries import *"
   ]
  },
  {
   "cell_type": "code",
   "execution_count": 3,
   "metadata": {},
   "outputs": [
    {
     "data": {
      "text/plain": [
       "<module 'queries.rkd' from 'C:\\\\Users\\\\baroncis\\\\Documents\\\\GitHub\\\\ArtworksInContextDatePlace\\\\queries\\\\rkd.py'>"
      ]
     },
     "execution_count": 3,
     "metadata": {},
     "output_type": "execute_result"
    }
   ],
   "source": [
    "importlib.reload(rkd)"
   ]
  },
  {
   "cell_type": "code",
   "execution_count": 19,
   "metadata": {},
   "outputs": [
    {
     "data": {
      "text/plain": [
       "['__builtins__',\n",
       " '__cached__',\n",
       " '__doc__',\n",
       " '__file__',\n",
       " '__loader__',\n",
       " '__name__',\n",
       " '__package__',\n",
       " '__spec__',\n",
       " 'local_endpoint',\n",
       " 'os',\n",
       " 'q_rkd_art_aligned_tot',\n",
       " 'q_rkd_author_aligned_tot',\n",
       " 'q_rkd_author_attr_tot',\n",
       " 'q_rkd_author_date_tot',\n",
       " 'q_rkd_author_place_tot',\n",
       " 'q_rkd_author_tot',\n",
       " 'q_rkd_date_place_tot',\n",
       " 'q_rkd_date_tot',\n",
       " 'q_rkd_place_tot',\n",
       " 'q_rkd_tot',\n",
       " 'query_wrapper_tot',\n",
       " 'rkd_endpoint',\n",
       " 'sparql_query_setting',\n",
       " 'sys']"
      ]
     },
     "execution_count": 19,
     "metadata": {},
     "output_type": "execute_result"
    }
   ],
   "source": [
    "dir(rkd)"
   ]
  },
  {
   "cell_type": "code",
   "execution_count": null,
   "metadata": {},
   "outputs": [],
   "source": []
  },
  {
   "cell_type": "code",
   "execution_count": null,
   "metadata": {},
   "outputs": [],
   "source": [
    "# RKD access points\n",
    "\n",
    "rkd_api = \"https://api.rkd.triply.cc\"\n",
    "rkd_endpoint = \"https://api.rkd.triply.cc/datasets/rkd/RKD-Knowledge-Graph/services/SPARQL/sparql\"\n",
    "rkd_interface = \"https://rkd.triply.cc/rkd/RKD-Knowledge-Graph/sparql\""
   ]
  },
  {
   "cell_type": "code",
   "execution_count": 10,
   "metadata": {
    "vscode": {
     "languageId": "plaintext"
    }
   },
   "outputs": [],
   "source": [
    "# query test section\n",
    "\n",
    "q = \"\"\" \n",
    "\n",
    "    prefix aat: <http://vocab.getty.edu/aat/>\n",
    "    prefix crm: <http://www.cidoc-crm.org/cidoc-crm/>\n",
    "    prefix xsd: <http://www.w3.org/2001/XMLSchema#>\n",
    "\n",
    "    select (count (distinct ?art) as ?tot) where {\n",
    "    \n",
    "    ?art a crm:E22_Human-Made_Object;\n",
    "    crm:P2_has_type aat:300133025;\n",
    "    crm:P108i_was_produced_by /crm:P4_has_time-span ?timespan. \n",
    "\n",
    "    }\n",
    "\n",
    "    \"\"\"\n",
    "\n",
    "tot =  query_wrapper_tot(q, rkd_endpoint) "
   ]
  },
  {
   "cell_type": "code",
   "execution_count": 11,
   "metadata": {},
   "outputs": [
    {
     "name": "stdout",
     "output_type": "stream",
     "text": [
      "300649\n"
     ]
    }
   ],
   "source": [
    "print(tot)"
   ]
  },
  {
   "cell_type": "markdown",
   "metadata": {},
   "source": [
    "# RKD analysis"
   ]
  },
  {
   "cell_type": "markdown",
   "metadata": {},
   "source": [
    "## Files to save the results"
   ]
  },
  {
   "cell_type": "code",
   "execution_count": 4,
   "metadata": {},
   "outputs": [],
   "source": [
    "headers = ['Dataset', 'Artworks', 'With date', 'With place', 'With date and place', 'With author', 'With author with date', 'With author with place','With artworks aligned to Wikidata', 'With author aligned to Wikidata or Ulan']\n",
    "headers_prop = headers.copy()\n",
    "headers_prop.remove('Artworks')"
   ]
  },
  {
   "cell_type": "code",
   "execution_count": 5,
   "metadata": {},
   "outputs": [],
   "source": [
    "rkd_list = [\"rkd\"]\n",
    "rkd_prop = [\"rkd\"]"
   ]
  },
  {
   "cell_type": "markdown",
   "metadata": {},
   "source": [
    "### Artworks"
   ]
  },
  {
   "cell_type": "markdown",
   "metadata": {},
   "source": [
    "Total number of artworks"
   ]
  },
  {
   "cell_type": "code",
   "execution_count": 6,
   "metadata": {},
   "outputs": [
    {
     "name": "stdout",
     "output_type": "stream",
     "text": [
      "Total:  4524472\n",
      "['rkd', 4524472]\n"
     ]
    }
   ],
   "source": [
    "rkd_art_tot = q_rkd_tot()\n",
    "print(\"Total: \", rkd_art_tot)\n",
    "rkd_list.append(int(rkd_art_tot))\n",
    "print(rkd_list)"
   ]
  },
  {
   "cell_type": "markdown",
   "metadata": {},
   "source": [
    "Number of artworks having a date specified"
   ]
  },
  {
   "cell_type": "code",
   "execution_count": 7,
   "metadata": {},
   "outputs": [
    {
     "name": "stdout",
     "output_type": "stream",
     "text": [
      "total:  300693\n",
      "percentage of the total of artworks:  6.65\n",
      "['rkd', 4524472, 300693]\n",
      "['rkd', 6.65]\n"
     ]
    }
   ],
   "source": [
    "rkd_date_tot = q_rkd_date_tot()\n",
    "rkd_prop_date = pprint_prop(rkd_date_tot, rkd_art_tot, rkd_list, rkd_prop)"
   ]
  },
  {
   "cell_type": "markdown",
   "metadata": {},
   "source": [
    "Number of artworks having a place of creation specified"
   ]
  },
  {
   "cell_type": "code",
   "execution_count": 8,
   "metadata": {},
   "outputs": [
    {
     "name": "stdout",
     "output_type": "stream",
     "text": [
      "total:  39196\n",
      "percentage of the total of artworks:  0.87\n",
      "['rkd', 4524472, 300693, 39196]\n",
      "['rkd', 6.65, 0.87]\n"
     ]
    }
   ],
   "source": [
    "rkd_place_tot = q_rkd_place_tot()\n",
    "rkd_prop_place = pprint_prop(rkd_place_tot, rkd_art_tot, rkd_list, rkd_prop)"
   ]
  },
  {
   "cell_type": "markdown",
   "metadata": {},
   "source": [
    "Number of artworks haivng both a date and place of creation specified"
   ]
  },
  {
   "cell_type": "code",
   "execution_count": 9,
   "metadata": {},
   "outputs": [
    {
     "name": "stdout",
     "output_type": "stream",
     "text": [
      "total:  39196\n",
      "percentage of the total of artworks:  0.87\n",
      "['rkd', 4524472, 300693, 39196, 39196]\n",
      "['rkd', 6.65, 0.87, 0.87]\n"
     ]
    }
   ],
   "source": [
    "rkd_date_place_tot = q_rkd_date_place_tot()\n",
    "rkd_prop_date_place = pprint_prop(rkd_date_place_tot, rkd_art_tot, rkd_list, rkd_prop)"
   ]
  },
  {
   "cell_type": "markdown",
   "metadata": {},
   "source": [
    "### Author details"
   ]
  },
  {
   "cell_type": "markdown",
   "metadata": {},
   "source": [
    "Number of artworks having an author specified"
   ]
  },
  {
   "cell_type": "code",
   "execution_count": 10,
   "metadata": {},
   "outputs": [
    {
     "name": "stdout",
     "output_type": "stream",
     "text": [
      "total:  16852\n",
      "percentage of the total of artworks:  0.37\n",
      "['rkd', 4524472, 300693, 39196, 39196, 16852]\n",
      "['rkd', 6.65, 0.87, 0.87, 0.37]\n"
     ]
    }
   ],
   "source": [
    "rkd_author_tot = q_rkd_author_attr_tot()\n",
    "rkd_prop_auth = pprint_prop(rkd_author_tot, rkd_art_tot, rkd_list, rkd_prop)"
   ]
  },
  {
   "cell_type": "markdown",
   "metadata": {},
   "source": [
    "Number of artworks with an author with at least a date (birth or death)"
   ]
  },
  {
   "cell_type": "code",
   "execution_count": 11,
   "metadata": {},
   "outputs": [
    {
     "name": "stdout",
     "output_type": "stream",
     "text": [
      "total:  15478\n",
      "percentage of the total of artworks:  0.34\n",
      "['rkd', 4524472, 300693, 39196, 39196, 16852, 15478]\n",
      "['rkd', 6.65, 0.87, 0.87, 0.37, 0.34]\n"
     ]
    }
   ],
   "source": [
    "rkd_author_date = q_rkd_author_date_tot()\n",
    "rkd_prop_auth_date = pprint_prop(rkd_author_date, rkd_art_tot, rkd_list, rkd_prop)"
   ]
  },
  {
   "cell_type": "markdown",
   "metadata": {},
   "source": [
    "Number of artworks with an author with at least a place (birth or death)"
   ]
  },
  {
   "cell_type": "code",
   "execution_count": 12,
   "metadata": {},
   "outputs": [
    {
     "name": "stdout",
     "output_type": "stream",
     "text": [
      "total:  15366\n",
      "percentage of the total of artworks:  0.34\n",
      "['rkd', 4524472, 300693, 39196, 39196, 16852, 15478, 15366]\n",
      "['rkd', 6.65, 0.87, 0.87, 0.37, 0.34, 0.34]\n"
     ]
    }
   ],
   "source": [
    "rkd_author_place = q_rkd_author_place_tot()\n",
    "rkd_prop_auth_place = pprint_prop(rkd_author_place, rkd_art_tot, rkd_list, rkd_prop)"
   ]
  },
  {
   "cell_type": "markdown",
   "metadata": {},
   "source": [
    "### Alignments"
   ]
  },
  {
   "cell_type": "markdown",
   "metadata": {},
   "source": [
    "Number of artworks aligned with Wikidata"
   ]
  },
  {
   "cell_type": "code",
   "execution_count": 13,
   "metadata": {},
   "outputs": [
    {
     "name": "stdout",
     "output_type": "stream",
     "text": [
      "artworks aligned to wikidata\n",
      "total:  0\n",
      "percentage of the total of artworks:  0.0\n",
      "['rkd', 4524472, 300693, 39196, 39196, 16852, 15478, 15366, 0]\n",
      "['rkd', 6.65, 0.87, 0.87, 0.37, 0.34, 0.34, 0.0]\n"
     ]
    }
   ],
   "source": [
    "print(\"artworks aligned to wikidata\")\n",
    "rkd_author_wd = q_rkd_art_aligned_tot()\n",
    "rkd_prop_auth_wd = pprint_prop(rkd_author_wd, rkd_art_tot, rkd_list, rkd_prop)"
   ]
  },
  {
   "cell_type": "markdown",
   "metadata": {},
   "source": [
    "Number of artworks with authors aligned with Wikidata or ULAN"
   ]
  },
  {
   "cell_type": "code",
   "execution_count": 14,
   "metadata": {},
   "outputs": [
    {
     "name": "stdout",
     "output_type": "stream",
     "text": [
      "artworks with authors aligned to wikidata or Ulan\n",
      "total:  16253\n",
      "percentage of the total of artworks:  0.36\n",
      "['rkd', 4524472, 300693, 39196, 39196, 16852, 15478, 15366, 0, 16253]\n",
      "['rkd', 6.65, 0.87, 0.87, 0.37, 0.34, 0.34, 0.0, 0.36]\n"
     ]
    }
   ],
   "source": [
    "print(\"artworks with authors aligned to wikidata or Ulan\")\n",
    "rkd_author_wd = q_rkd_author_aligned_tot()\n",
    "rkd_prop_auth_wd = pprint_prop(rkd_author_wd, rkd_art_tot, rkd_list, rkd_prop)"
   ]
  },
  {
   "cell_type": "code",
   "execution_count": 18,
   "metadata": {},
   "outputs": [],
   "source": [
    "# save results\n",
    "\n",
    "with open('rkd_res.csv', 'w', newline='') as f:\n",
    "    writer = csv.writer(f)\n",
    "    writer.writerow(headers)\n",
    "    writer.writerow(rkd_list)\n",
    "with open('rkd_res_prop.csv', 'w', newline='') as f:\n",
    "    writer = csv.writer(f)\n",
    "    writer.writerow(headers_prop)\n",
    "    writer.writerow(rkd_prop)"
   ]
  },
  {
   "cell_type": "code",
   "execution_count": null,
   "metadata": {},
   "outputs": [],
   "source": []
  }
 ],
 "metadata": {
  "kernelspec": {
   "display_name": "Python 3 (ipykernel)",
   "language": "python",
   "name": "python3"
  },
  "language_info": {
   "codemirror_mode": {
    "name": "ipython",
    "version": 3
   },
   "file_extension": ".py",
   "mimetype": "text/x-python",
   "name": "python",
   "nbconvert_exporter": "python",
   "pygments_lexer": "ipython3",
   "version": "3.12.1"
  }
 },
 "nbformat": 4,
 "nbformat_minor": 4
}
