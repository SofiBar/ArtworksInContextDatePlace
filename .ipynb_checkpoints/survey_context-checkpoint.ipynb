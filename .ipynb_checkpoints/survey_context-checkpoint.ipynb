{
 "cells": [
  {
   "cell_type": "markdown",
   "id": "e09a13ac-0b79-4676-8cc2-f946968e306b",
   "metadata": {},
   "source": [
    "# Survey of date and place coordinates\n",
    "The code in this notebook explores the cultural properties in ArCo, the italian cultural heritage knowledge graph, for which an execution date is specified. "
   ]
  },
  {
   "cell_type": "code",
   "execution_count": 1,
   "id": "dfea6ae0-3640-4f4e-b638-6f17fc7b7b96",
   "metadata": {},
   "outputs": [],
   "source": [
    "from SPARQLWrapper import SPARQLWrapper, JSON\n",
    "from rdflib.namespace import CSVW, DC, DCAT, DCTERMS, DOAP, FOAF, ODRL2, ORG, OWL, \\\n",
    "                           PROF, PROV, RDF, RDFS, SDO, SH, SKOS, SOSA, SSN, TIME, \\\n",
    "                           VOID, XMLNS, XSD\n",
    "from rdflib import Namespace\n",
    "from rdflib import URIRef\n",
    "\n",
    "import pandas as pd\n",
    "import altair as alt\n",
    "import numpy as np"
   ]
  },
  {
   "cell_type": "code",
   "execution_count": 11,
   "id": "20e6c988-cec3-4abf-b3c7-75c4494ecd3e",
   "metadata": {},
   "outputs": [],
   "source": [
    "import sys\n",
    "import os\n",
    "sys.path.append(os.path.abspath('queries'))\n",
    "\n",
    "from queries import *"
   ]
  },
  {
   "cell_type": "code",
   "execution_count": 3,
   "id": "2aba3930-04c4-487a-9da9-1c32a28004cb",
   "metadata": {},
   "outputs": [],
   "source": [
    "def pprint_prop(num1, tot, l, l_prop): \n",
    "    \"prints the number and the proportion over the total of artworks. It adds the absolute number to the dataset list\" \n",
    "    p = round((int(num1)/int(tot))*100, 2)\n",
    "    print(\"total: \", num1)\n",
    "    print(\"percentage of the total of artworks: \", p)\n",
    "    l.append(num1)\n",
    "    l_prop.append(p)\n",
    "    print(l)\n",
    "    print(l_prop)\n",
    "    return p\n",
    "#test = prop(2, 10)\n",
    "#print(test)"
   ]
  },
  {
   "cell_type": "code",
   "execution_count": 4,
   "id": "6a4cea21-4b25-4421-85a0-8f67997c56c1",
   "metadata": {},
   "outputs": [
    {
     "name": "stdout",
     "output_type": "stream",
     "text": [
      "['Dataset', 'Artworks', 'With date', 'With place', 'With date and place', 'With author', 'With author with date', 'With author with place', 'With author aligned to Wikidata', 'With author aligned to ULAN']\n",
      "['Dataset', 'With date', 'With place', 'With date and place', 'With author', 'With author with date', 'With author with place', 'With author aligned to Wikidata', 'With author aligned to ULAN']\n"
     ]
    }
   ],
   "source": [
    "headers = ['Dataset', 'Artworks', 'With date', 'With place', 'With date and place', 'With author', 'With author with date', 'With author with place', 'With author aligned to Wikidata', 'With author aligned to ULAN']\n",
    "headers_prop = headers.copy()\n",
    "headers_prop.remove('Artworks')\n",
    "print(headers)\n",
    "print(headers_prop)\n",
    "df_main = pd.DataFrame(columns=headers)\n",
    "df_prop = pd.DataFrame(columns=headers_prop)"
   ]
  },
  {
   "cell_type": "markdown",
   "id": "84742ad0-9ee7-4c6a-a5fb-3081427d6ef3",
   "metadata": {},
   "source": [
    "## ArCO\n",
    "The italian Cultural Heritage Knowledge Graph"
   ]
  },
  {
   "cell_type": "code",
   "execution_count": 68,
   "id": "48a7a242-7b40-4b72-a553-8f3a0bcb1bc7",
   "metadata": {},
   "outputs": [],
   "source": [
    "arco_list = [\"Arco\"]\n",
    "arco_prop = [\"Arco\"]"
   ]
  },
  {
   "cell_type": "markdown",
   "id": "0bf26b1b-41ce-4ffd-b667-4c302b843826",
   "metadata": {},
   "source": [
    "Total number of artworks (arco:HistoricOrArtisticProperty)"
   ]
  },
  {
   "cell_type": "code",
   "execution_count": 69,
   "id": "7c3474e3-a8ff-4a1c-a192-f89cfa50f18c",
   "metadata": {},
   "outputs": [
    {
     "name": "stdout",
     "output_type": "stream",
     "text": [
      "Total:  2184217\n",
      "['Arco', 2184217]\n"
     ]
    }
   ],
   "source": [
    "arco_art_tot = q_arco_tot()\n",
    "print(\"Total: \", arco_art_tot)\n",
    "arco_list.append(int(arco_art_tot))\n",
    "print(arco_list)"
   ]
  },
  {
   "cell_type": "markdown",
   "id": "b92d45b8-69d3-4a86-ac7f-bf8abe444a83",
   "metadata": {},
   "source": [
    "Number of artworks having a date specified"
   ]
  },
  {
   "cell_type": "code",
   "execution_count": 70,
   "id": "119ca76a-1e27-40fa-886e-b8de4ffaa2cb",
   "metadata": {},
   "outputs": [
    {
     "name": "stdout",
     "output_type": "stream",
     "text": [
      "total:  2142384\n",
      "percentage of the total of artworks:  98.08\n",
      "['Arco', 2184217, 2142384]\n",
      "['Arco', 98.08]\n"
     ]
    }
   ],
   "source": [
    "arco_date_tot = q_arco_date_tot()\n",
    "arco_prop_date = pprint_prop(arco_date_tot, arco_art_tot, arco_list, arco_prop)"
   ]
  },
  {
   "cell_type": "markdown",
   "id": "9453de67-7e69-4701-93c4-e0200e2dc421",
   "metadata": {},
   "source": [
    "Number of artworks having a place of creation specified"
   ]
  },
  {
   "cell_type": "code",
   "execution_count": 71,
   "id": "fa02d5bd-ab94-438b-afc8-53495a7bf427",
   "metadata": {},
   "outputs": [
    {
     "name": "stdout",
     "output_type": "stream",
     "text": [
      "total:  984\n",
      "percentage of the total of artworks:  0.05\n",
      "['Arco', 2184217, 2142384, 984]\n",
      "['Arco', 98.08, 0.05]\n"
     ]
    }
   ],
   "source": [
    "arco_place_tot = q_arco_place_tot()\n",
    "arco_prop_place = pprint_prop(arco_place_tot, arco_art_tot, arco_list, arco_prop)"
   ]
  },
  {
   "cell_type": "markdown",
   "id": "c4988b50-e2fa-4b1c-8b43-3723e7e220f8",
   "metadata": {},
   "source": [
    "Number of artworks haivng both a date and place of creation specified"
   ]
  },
  {
   "cell_type": "code",
   "execution_count": 72,
   "id": "a8cd5597-31a0-4676-8473-a3a7665d0827",
   "metadata": {},
   "outputs": [
    {
     "name": "stdout",
     "output_type": "stream",
     "text": [
      "total:  984\n",
      "percentage of the total of artworks:  0.05\n",
      "['Arco', 2184217, 2142384, 984, 984]\n",
      "['Arco', 98.08, 0.05, 0.05]\n"
     ]
    }
   ],
   "source": [
    "arco_date_place_tot = q_arco_date_place_tot()\n",
    "arco_prop_date_place = pprint_prop(arco_date_place_tot, arco_art_tot, arco_list, arco_prop)\n",
    "# arco_overview.append([\"With date and place\", int(arco_date_place_tot)])"
   ]
  },
  {
   "cell_type": "markdown",
   "id": "7f40acf2-c9d8-4466-9948-3dfa8299c4a5",
   "metadata": {},
   "source": [
    "### Author details"
   ]
  },
  {
   "cell_type": "markdown",
   "id": "b5a484a8-a149-4b6e-9095-935bee0a5dc3",
   "metadata": {},
   "source": [
    "Number of artworks having an author specified"
   ]
  },
  {
   "cell_type": "code",
   "execution_count": 73,
   "id": "77f03da7-bc9b-4fae-8f5e-e8e5f14ae617",
   "metadata": {},
   "outputs": [
    {
     "name": "stdout",
     "output_type": "stream",
     "text": [
      "total:  523957\n",
      "percentage of the total of artworks:  23.99\n",
      "['Arco', 2184217, 2142384, 984, 984, 523957]\n",
      "['Arco', 98.08, 0.05, 0.05, 23.99]\n"
     ]
    }
   ],
   "source": [
    "arco_author_tot = q_arco_author_tot()\n",
    "arco_prop_auth = pprint_prop(arco_author_tot, arco_art_tot, arco_list, arco_prop)\n",
    "#print(\"total: \", arco_author_tot)\n",
    "#arco_overview.append([\"With author\", int(arco_author_tot)])\n",
    "#arco_prop_auth = round((int(arco_author_tot)/int(arco_art_tot))*100, 2)\n",
    "#print(\"percentage of the total of artworks: \", arco_prop_auth)"
   ]
  },
  {
   "cell_type": "markdown",
   "id": "a284e2aa-29bc-446e-91b0-f281a11bc759",
   "metadata": {},
   "source": [
    "Number of artworks with an author with at least a date (birth or death)"
   ]
  },
  {
   "cell_type": "code",
   "execution_count": 74,
   "id": "e7f4bd96-8e1d-49c0-8d19-f8f176874e4a",
   "metadata": {},
   "outputs": [
    {
     "name": "stdout",
     "output_type": "stream",
     "text": [
      "total:  257848\n",
      "percentage of the total of artworks:  11.81\n",
      "['Arco', 2184217, 2142384, 984, 984, 523957, 257848]\n",
      "['Arco', 98.08, 0.05, 0.05, 23.99, 11.81]\n"
     ]
    }
   ],
   "source": [
    "arco_author_date = q_arco_author_date_tot()\n",
    "arco_prop_auth_date = pprint_prop(arco_author_date, arco_art_tot, arco_list, arco_prop)"
   ]
  },
  {
   "cell_type": "markdown",
   "id": "f3451a47-71b0-427f-b7ad-cedfb042757f",
   "metadata": {},
   "source": [
    "Number of artworks with an author with at least a place (birth or death)"
   ]
  },
  {
   "cell_type": "code",
   "execution_count": 75,
   "id": "79f77136-d080-4830-ae71-013a6f00004d",
   "metadata": {},
   "outputs": [
    {
     "name": "stdout",
     "output_type": "stream",
     "text": [
      "total:  259101\n",
      "percentage of the total of artworks:  11.86\n",
      "['Arco', 2184217, 2142384, 984, 984, 523957, 257848, 259101]\n",
      "['Arco', 98.08, 0.05, 0.05, 23.99, 11.81, 11.86]\n"
     ]
    }
   ],
   "source": [
    "arco_author_place = q_arco_author_place_tot()\n",
    "arco_prop_auth_place = pprint_prop(arco_author_place, arco_art_tot, arco_list, arco_prop)"
   ]
  },
  {
   "cell_type": "markdown",
   "id": "cc31c001-c660-45d9-9549-3a712f95febe",
   "metadata": {},
   "source": [
    "Number of artworks having an author aligned with Wikidata"
   ]
  },
  {
   "cell_type": "code",
   "execution_count": 76,
   "id": "87d383fc-e334-49eb-882f-b70914633a1c",
   "metadata": {},
   "outputs": [
    {
     "name": "stdout",
     "output_type": "stream",
     "text": [
      "total:  148802\n",
      "percentage of the total of artworks:  6.81\n",
      "['Arco', 2184217, 2142384, 984, 984, 523957, 257848, 259101, 148802]\n",
      "['Arco', 98.08, 0.05, 0.05, 23.99, 11.81, 11.86, 6.81]\n"
     ]
    }
   ],
   "source": [
    "arco_author_wd = q_arco_author_wikidata_tot()\n",
    "arco_prop_auth_wd = pprint_prop(arco_author_wd, arco_art_tot, arco_list, arco_prop)"
   ]
  },
  {
   "cell_type": "markdown",
   "id": "34653b49-46bd-454f-ab91-38145cb124ce",
   "metadata": {},
   "source": [
    "Number of artworks having an author alighed with ULAN"
   ]
  },
  {
   "cell_type": "code",
   "execution_count": 77,
   "id": "ddb2b44a-25b6-4244-a020-c8f728da8205",
   "metadata": {},
   "outputs": [
    {
     "name": "stdout",
     "output_type": "stream",
     "text": [
      "total:  0\n",
      "percentage of the total of artworks:  0.0\n",
      "['Arco', 2184217, 2142384, 984, 984, 523957, 257848, 259101, 148802, 0]\n",
      "['Arco', 98.08, 0.05, 0.05, 23.99, 11.81, 11.86, 6.81, 0.0]\n"
     ]
    }
   ],
   "source": [
    "arco_author_ulan = q_arco_author_ulan_tot()\n",
    "arco_prop_auth_ulan = pprint_prop(arco_author_ulan, arco_art_tot, arco_list, arco_prop)"
   ]
  },
  {
   "cell_type": "code",
   "execution_count": 78,
   "id": "b307e571-133e-4114-ae48-6cbc087086ec",
   "metadata": {},
   "outputs": [],
   "source": [
    "# add arco details to the main dataframe\n",
    "df_main.loc[len(df_main)] = arco_list\n",
    "#df_main = df_main.append(pd.Series(arco_list, index=column_headers), ignore_index=True)\n",
    "df_prop.loc[len(df_prop)] = arco_prop"
   ]
  },
  {
   "cell_type": "markdown",
   "id": "0ad71e2b-70b0-4760-b522-f6bbb8daba58",
   "metadata": {},
   "source": [
    "arco_df = pd.DataFrame(np.array(arco_overview),\n",
    "                       columns=['Name', 'Total'])\n",
    "arco_df[\"Total\"] = pd.to_numeric(arco_df[\"Total\"])"
   ]
  },
  {
   "cell_type": "code",
   "execution_count": null,
   "id": "4207ad33-b67f-4641-85f8-07daa81bc007",
   "metadata": {},
   "outputs": [],
   "source": []
  },
  {
   "cell_type": "markdown",
   "id": "36df72bb-d613-4d73-a4b2-54d959399b47",
   "metadata": {},
   "source": [
    "## Zeri"
   ]
  },
  {
   "cell_type": "code",
   "execution_count": 5,
   "id": "47231041-208e-4da8-b53c-3baa42b5308f",
   "metadata": {},
   "outputs": [],
   "source": [
    "#zeri_overview = []\n",
    "zeri_list = ['Zeri']\n",
    "zeri_prop = ['Zeri']"
   ]
  },
  {
   "cell_type": "code",
   "execution_count": 6,
   "id": "c8ff6c1a-37d8-46f5-852c-a89e1c254a8a",
   "metadata": {},
   "outputs": [
    {
     "name": "stdout",
     "output_type": "stream",
     "text": [
      "20082\n",
      "date\n",
      "total:  20010\n",
      "percentage of the total of artworks:  99.64\n",
      "['Zeri', 20082, 20010]\n",
      "['Zeri', 99.64]\n",
      "place\n",
      "total:  0\n",
      "percentage of the total of artworks:  0.0\n",
      "['Zeri', 20082, 20010, 0]\n",
      "['Zeri', 99.64, 0.0]\n",
      "date and place\n",
      "total:  0\n",
      "percentage of the total of artworks:  0.0\n",
      "['Zeri', 20082, 20010, 0, 0]\n",
      "['Zeri', 99.64, 0.0, 0.0]\n"
     ]
    }
   ],
   "source": [
    "zeri_art_tot = q_zeri_tot()\n",
    "print(zeri_art_tot)\n",
    "zeri_list.append(zeri_art_tot)\n",
    "#zeri_overview.append([\"Artworks\", int(zeri_art_tot)])\n",
    "\n",
    "# date\n",
    "print(\"date\")\n",
    "zeri_date = q_zeri_date_tot()\n",
    "zeri_date_prop = pprint_prop(zeri_date, zeri_art_tot, zeri_list, zeri_prop)\n",
    "\n",
    "#place \n",
    "print(\"place\")\n",
    "zeri_place = q_zeri_place_tot()\n",
    "zeri_date_prop = pprint_prop(zeri_place, zeri_art_tot, zeri_list, zeri_prop)\n",
    "\n",
    "# date and place\n",
    "print(\"date and place\")\n",
    "zeri_date_place = q_zeri_date_place_tot()\n",
    "zeri_date_place_prop = pprint_prop(zeri_date_place, zeri_art_tot, zeri_list, zeri_prop)"
   ]
  },
  {
   "cell_type": "markdown",
   "id": "1b470f68-ea2e-4e84-abc8-7ef988a677b4",
   "metadata": {},
   "source": [
    "zeri_date = q_zeri_date_tot()\n",
    "zeri_date_prop = pprint_prop(zeri_date, zeri_art_tot, zeri_list, zeri_prop)\n",
    "#print(zeri_date)\n",
    "#zeri_overview.append([\"with a date\", int(zeri_date)])"
   ]
  },
  {
   "cell_type": "code",
   "execution_count": 6,
   "id": "8d84a853-a2bf-4d65-80ba-0bcfa913db8c",
   "metadata": {},
   "outputs": [
    {
     "name": "stdout",
     "output_type": "stream",
     "text": [
      "20010\n"
     ]
    }
   ],
   "source": [
    "#zeri_place = q_zeri_place_tot()\n",
    "#print(zeri_place)\n",
    "#zeri_overview.append([\"with a place\", int(zeri_place)])"
   ]
  },
  {
   "cell_type": "markdown",
   "id": "abd83716-31b3-40b6-a47e-8b7b2cf4b5ee",
   "metadata": {},
   "source": [
    "### Author details"
   ]
  },
  {
   "cell_type": "code",
   "execution_count": 7,
   "id": "c86c4c22-f548-4d95-815c-72a3a7915430",
   "metadata": {},
   "outputs": [
    {
     "name": "stdout",
     "output_type": "stream",
     "text": [
      "with author\n",
      "total:  19061\n",
      "percentage of the total of artworks:  94.92\n",
      "['Zeri', 20082, 20010, 0, 0, 19061]\n",
      "['Zeri', 99.64, 0.0, 0.0, 94.92]\n",
      "authors with date\n",
      "total:  0\n",
      "percentage of the total of artworks:  0.0\n",
      "['Zeri', 20082, 20010, 0, 0, 19061, 0]\n",
      "['Zeri', 99.64, 0.0, 0.0, 94.92, 0.0]\n",
      "authors with place\n",
      "total:  0\n",
      "percentage of the total of artworks:  0.0\n",
      "['Zeri', 20082, 20010, 0, 0, 19061, 0, 0]\n",
      "['Zeri', 99.64, 0.0, 0.0, 94.92, 0.0, 0.0]\n"
     ]
    }
   ],
   "source": [
    "## authors\n",
    "print(\"with author\")\n",
    "zeri_auth = q_zeri_author_tot()\n",
    "zeri_auth_prop = pprint_prop(zeri_auth, zeri_art_tot, zeri_list, zeri_prop)\n",
    "\n",
    "## authors with date\n",
    "print(\"authors with date\")\n",
    "zeri_auth_date = q_zeri_author_date_tot()\n",
    "zeri_auth_date_prop = pprint_prop(zeri_auth_date, zeri_art_tot, zeri_list, zeri_prop)\n",
    "\n",
    "## authors with place\n",
    "print(\"authors with place\")\n",
    "zeri_auth_place = q_zeri_author_place_tot()\n",
    "zeri_auth_place_prop = pprint_prop(zeri_auth_place, zeri_art_tot, zeri_list, zeri_prop)"
   ]
  },
  {
   "cell_type": "markdown",
   "id": "520feb30-36f7-4fef-af7e-fc2d82b2956d",
   "metadata": {},
   "source": [
    "### Authors aligned"
   ]
  },
  {
   "cell_type": "code",
   "execution_count": 8,
   "id": "00508909-9ce4-441a-a716-464ce4bb00a5",
   "metadata": {},
   "outputs": [
    {
     "ename": "NameError",
     "evalue": "name 'q_zeri_author_wikidata_tot' is not defined",
     "output_type": "error",
     "traceback": [
      "\u001b[1;31m---------------------------------------------------------------------------\u001b[0m",
      "\u001b[1;31mNameError\u001b[0m                                 Traceback (most recent call last)",
      "Cell \u001b[1;32mIn[8], line 2\u001b[0m\n\u001b[0;32m      1\u001b[0m \u001b[38;5;66;03m# wd\u001b[39;00m\n\u001b[1;32m----> 2\u001b[0m zeri_author_wd \u001b[38;5;241m=\u001b[39m \u001b[43mq_zeri_author_wikidata_tot\u001b[49m()\n\u001b[0;32m      3\u001b[0m zeri_prop_auth_wd \u001b[38;5;241m=\u001b[39m pprint_prop(zeri_author_wd, zeri_art_tot, zeri_list, zeri_prop)\n\u001b[0;32m      5\u001b[0m \u001b[38;5;66;03m#ulan\u001b[39;00m\n",
      "\u001b[1;31mNameError\u001b[0m: name 'q_zeri_author_wikidata_tot' is not defined"
     ]
    }
   ],
   "source": [
    "# wd\n",
    "zeri_author_wd = q_zeri_author_wikidata_tot()\n",
    "zeri_prop_auth_wd = pprint_prop(zeri_author_wd, zeri_art_tot, zeri_list, zeri_prop)\n",
    "\n",
    "#ulan\n",
    "zeri_author_ulan = q_zeri_author_ulan_tot()\n",
    "zeri_prop_auth_ulan = pprint_prop(zeri_author_ulan, zeri_art_tot, zeri_list, zeri_prop)"
   ]
  },
  {
   "cell_type": "code",
   "execution_count": null,
   "id": "01f529f0-10ce-4228-a929-c70cde1803f4",
   "metadata": {},
   "outputs": [],
   "source": [
    "### Add results to the main dataframe"
   ]
  },
  {
   "cell_type": "code",
   "execution_count": null,
   "id": "721417cc-7707-4eb4-836c-d61719c3404b",
   "metadata": {},
   "outputs": [],
   "source": [
    "# add zeri details to the main dataframe\n",
    "df_main.loc[len(df_main)] = zeri_list\n",
    "#df_main = df_main.append(pd.Series(zeri_list, index=column_headers), ignore_index=True)\n",
    "df_prop.loc[len(df_prop)] = zeri_prop"
   ]
  },
  {
   "cell_type": "code",
   "execution_count": null,
   "id": "d52a3a06-9e59-47b4-9035-d2569e82f089",
   "metadata": {},
   "outputs": [],
   "source": []
  },
  {
   "cell_type": "markdown",
   "id": "d78afb5f-3d09-4b17-89f5-d98ed569f428",
   "metadata": {},
   "source": [
    "## Europeana"
   ]
  },
  {
   "cell_type": "code",
   "execution_count": 9,
   "id": "a462edc6-84f8-45af-8067-0f14dfde2e3b",
   "metadata": {},
   "outputs": [],
   "source": [
    "#zeri_overview = []\n",
    "eu_list = ['Zeri']\n",
    "eu_prop = ['Zeri']"
   ]
  },
  {
   "cell_type": "code",
   "execution_count": 12,
   "id": "8aa50e6e-0797-4cc8-babc-9f081f2b4a11",
   "metadata": {},
   "outputs": [
    {
     "ename": "NameError",
     "evalue": "name 'q_eu_tot' is not defined",
     "output_type": "error",
     "traceback": [
      "\u001b[1;31m---------------------------------------------------------------------------\u001b[0m",
      "\u001b[1;31mNameError\u001b[0m                                 Traceback (most recent call last)",
      "Cell \u001b[1;32mIn[12], line 1\u001b[0m\n\u001b[1;32m----> 1\u001b[0m eu_art_tot \u001b[38;5;241m=\u001b[39m \u001b[43mq_eu_tot\u001b[49m()\n\u001b[0;32m      2\u001b[0m \u001b[38;5;28mprint\u001b[39m(eu_art_tot)\n\u001b[0;32m      3\u001b[0m eu_list\u001b[38;5;241m.\u001b[39mappend(eu_art_tot)\n",
      "\u001b[1;31mNameError\u001b[0m: name 'q_eu_tot' is not defined"
     ]
    }
   ],
   "source": [
    "eu_art_tot = q_eu_tot()\n",
    "print(eu_art_tot)\n",
    "eu_list.append(eu_art_tot)\n",
    "#eu_overview.append([\"Artworks\", int(eu_art_tot)])\n",
    "\n",
    "# date\n",
    "print(\"date\")\n",
    "eu_date = q_eu_date_tot()\n",
    "eu_date_prop = pprint_prop(eu_date, eu_art_tot, eu_list, eu_prop)\n",
    "\n",
    "#place \n",
    "print(\"place\")\n",
    "eu_place = q_eu_place_tot()\n",
    "eu_date_prop = pprint_prop(eu_place, eu_art_tot, eu_list, eu_prop)\n",
    "\n",
    "# date and place\n",
    "print(\"date and place\")\n",
    "eu_date_place = q_eu_date_place_tot()\n",
    "eu_date_place_prop = pprint_prop(eu_date_place, eu_art_tot, eu_list, eu_prop)"
   ]
  },
  {
   "cell_type": "markdown",
   "id": "13062b8b-c3b0-4221-9e2c-403cd6a5d93f",
   "metadata": {},
   "source": [
    "### Author details"
   ]
  },
  {
   "cell_type": "code",
   "execution_count": null,
   "id": "59e5d690-d264-4cf0-97fd-44dd3272e140",
   "metadata": {},
   "outputs": [],
   "source": [
    "## authors\n",
    "print(\"with author\")\n",
    "eu_auth = q_eu_author_tot()\n",
    "eu_auth_prop = pprint_prop(eu_auth, eu_art_tot, eu_list, eu_prop)\n",
    "\n",
    "## authors with date\n",
    "print(\"authors with date\")\n",
    "eu_auth_date = q_eu_author_date_tot()\n",
    "eu_auth_date_prop = pprint_prop(eu_auth_date, eu_art_tot, eu_list, eu_prop)\n",
    "\n",
    "## authors with place\n",
    "print(\"authors with place\")\n",
    "eu_auth_place = q_eu_author_place_tot()\n",
    "eu_auth_place_prop = pprint_prop(eu_auth_place, eu_art_tot, eu_list, eu_prop)"
   ]
  },
  {
   "cell_type": "markdown",
   "id": "64a079d0-3a45-4a91-b30e-15ca9d3b75a6",
   "metadata": {},
   "source": [
    "### Author aligned"
   ]
  },
  {
   "cell_type": "code",
   "execution_count": null,
   "id": "123eefe0-54e9-4da1-a2b7-8334250d1b2c",
   "metadata": {},
   "outputs": [],
   "source": [
    "# wd\n",
    "eu_author_wd = q_eu_author_wikidata_tot()\n",
    "eu_prop_auth_wd = pprint_prop(eu_author_wd, eu_art_tot, eu_list, eu_prop)\n",
    "\n",
    "#ulan\n",
    "eu_author_ulan = q_eu_author_ulan_tot()\n",
    "eu_prop_auth_ulan = pprint_prop(eu_author_ulan, eu_art_tot, eu_list, eu_prop)"
   ]
  },
  {
   "cell_type": "markdown",
   "id": "eb5c4801-6c7f-4885-a677-099116a65da1",
   "metadata": {},
   "source": [
    "# Save results"
   ]
  },
  {
   "cell_type": "code",
   "execution_count": 79,
   "id": "01159e75-28fe-4209-9263-04397c521131",
   "metadata": {},
   "outputs": [],
   "source": [
    "# save results\n",
    "df_main.to_csv('results_main.csv', index=False)\n",
    "df_prop.to_csv('results_prop.csv', index=False)"
   ]
  },
  {
   "cell_type": "markdown",
   "id": "ebbe7287-10da-467c-9210-eb70cf53b445",
   "metadata": {},
   "source": [
    "## Final visualization"
   ]
  },
  {
   "cell_type": "code",
   "execution_count": 98,
   "id": "ecfe3fd4-1a69-4f3a-9d86-8e9900786170",
   "metadata": {},
   "outputs": [
    {
     "ename": "KeyError",
     "evalue": "\"None of ['Dataset'] are in the columns\"",
     "output_type": "error",
     "traceback": [
      "\u001b[1;31m---------------------------------------------------------------------------\u001b[0m",
      "\u001b[1;31mKeyError\u001b[0m                                  Traceback (most recent call last)",
      "\u001b[1;32m~\\AppData\\Local\\Temp\\ipykernel_3908\\965223265.py\u001b[0m in \u001b[0;36m?\u001b[1;34m()\u001b[0m\n\u001b[1;32m----> 1\u001b[1;33m \u001b[0mdf_prop\u001b[0m\u001b[1;33m.\u001b[0m\u001b[0mset_index\u001b[0m\u001b[1;33m(\u001b[0m\u001b[1;34m'Dataset'\u001b[0m\u001b[1;33m,\u001b[0m \u001b[0minplace\u001b[0m\u001b[1;33m=\u001b[0m\u001b[1;32mTrue\u001b[0m\u001b[1;33m)\u001b[0m\u001b[1;33m\u001b[0m\u001b[1;33m\u001b[0m\u001b[0m\n\u001b[0m\u001b[0;32m      2\u001b[0m \u001b[0mdf_prop\u001b[0m\u001b[1;33m\u001b[0m\u001b[1;33m\u001b[0m\u001b[0m\n",
      "\u001b[1;32m~\\AppData\\Local\\Programs\\Python\\Python312\\Lib\\site-packages\\pandas\\core\\frame.py\u001b[0m in \u001b[0;36m?\u001b[1;34m(self, keys, drop, append, inplace, verify_integrity)\u001b[0m\n\u001b[0;32m   6118\u001b[0m                     \u001b[1;32mif\u001b[0m \u001b[1;32mnot\u001b[0m \u001b[0mfound\u001b[0m\u001b[1;33m:\u001b[0m\u001b[1;33m\u001b[0m\u001b[1;33m\u001b[0m\u001b[0m\n\u001b[0;32m   6119\u001b[0m                         \u001b[0mmissing\u001b[0m\u001b[1;33m.\u001b[0m\u001b[0mappend\u001b[0m\u001b[1;33m(\u001b[0m\u001b[0mcol\u001b[0m\u001b[1;33m)\u001b[0m\u001b[1;33m\u001b[0m\u001b[1;33m\u001b[0m\u001b[0m\n\u001b[0;32m   6120\u001b[0m \u001b[1;33m\u001b[0m\u001b[0m\n\u001b[0;32m   6121\u001b[0m         \u001b[1;32mif\u001b[0m \u001b[0mmissing\u001b[0m\u001b[1;33m:\u001b[0m\u001b[1;33m\u001b[0m\u001b[1;33m\u001b[0m\u001b[0m\n\u001b[1;32m-> 6122\u001b[1;33m             \u001b[1;32mraise\u001b[0m \u001b[0mKeyError\u001b[0m\u001b[1;33m(\u001b[0m\u001b[1;33mf\"\u001b[0m\u001b[1;33mNone of \u001b[0m\u001b[1;33m{\u001b[0m\u001b[0mmissing\u001b[0m\u001b[1;33m}\u001b[0m\u001b[1;33m are in the columns\u001b[0m\u001b[1;33m\"\u001b[0m\u001b[1;33m)\u001b[0m\u001b[1;33m\u001b[0m\u001b[1;33m\u001b[0m\u001b[0m\n\u001b[0m\u001b[0;32m   6123\u001b[0m \u001b[1;33m\u001b[0m\u001b[0m\n\u001b[0;32m   6124\u001b[0m         \u001b[1;32mif\u001b[0m \u001b[0minplace\u001b[0m\u001b[1;33m:\u001b[0m\u001b[1;33m\u001b[0m\u001b[1;33m\u001b[0m\u001b[0m\n\u001b[0;32m   6125\u001b[0m             \u001b[0mframe\u001b[0m \u001b[1;33m=\u001b[0m \u001b[0mself\u001b[0m\u001b[1;33m\u001b[0m\u001b[1;33m\u001b[0m\u001b[0m\n",
      "\u001b[1;31mKeyError\u001b[0m: \"None of ['Dataset'] are in the columns\""
     ]
    }
   ],
   "source": [
    "df_prop.set_index('Dataset', inplace=True)\n",
    "df_prop\n"
   ]
  },
  {
   "cell_type": "code",
   "execution_count": 85,
   "id": "85a04d83-304a-4523-aa89-784f578ebde3",
   "metadata": {},
   "outputs": [
    {
     "data": {
      "image/png": "[encoded data removed]",
      "text/plain": [
       "<Figure size 640x480 with 1 Axes>"
      ]
     },
     "metadata": {},
     "output_type": "display_data"
    }
   ],
   "source": [
    "#https://pandas.pydata.org/docs/reference/api/pandas.DataFrame.plot.bar.html\n",
    "\n",
    "ax = df_prop.plot.bar(rot=0)\n",
    "for container in ax.containers:\n",
    "    ax.bar_label(container)"
   ]
  },
  {
   "cell_type": "code",
   "execution_count": 103,
   "id": "2556cac2-a404-4e88-b1f1-0a6f2dcc9efc",
   "metadata": {},
   "outputs": [
    {
     "data": {
      "text/plain": [
       "<matplotlib.legend.Legend at 0x1f590d5c950>"
      ]
     },
     "execution_count": 103,
     "metadata": {},
     "output_type": "execute_result"
    },
    {
     "data": {
      "image/png": "[encoded data removed]",
      "text/plain": [
       "<Figure size 640x480 with 1 Axes>"
      ]
     },
     "metadata": {},
     "output_type": "display_data"
    }
   ],
   "source": [
    "# it turns the dataset names into the names of the columns, so that the subplots for each dataset can be created\n",
    "df2 = df_main.set_index('Dataset').T\n",
    "df2\n",
    "\n",
    "axes = df2.plot.bar(subplots=True\n",
    ")\n",
    "axes[0].legend()  "
   ]
  },
  {
   "cell_type": "code",
   "execution_count": null,
   "id": "063cee08-3073-48ac-adaa-152b4800fc3e",
   "metadata": {},
   "outputs": [],
   "source": []
  }
 ],
 "metadata": {
  "kernelspec": {
   "display_name": "Python 3 (ipykernel)",
   "language": "python",
   "name": "python3"
  },
  "language_info": {
   "codemirror_mode": {
    "name": "ipython",
    "version": 3
   },
   "file_extension": ".py",
   "mimetype": "text/x-python",
   "name": "python",
   "nbconvert_exporter": "python",
   "pygments_lexer": "ipython3",
   "version": "3.12.1"
  }
 },
 "nbformat": 4,
 "nbformat_minor": 5
}
